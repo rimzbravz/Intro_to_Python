{
 "cells": [
  {
   "cell_type": "markdown",
   "metadata": {},
   "source": [
    "## Welcome to Python!!\n",
    "a knowledge sharing session\n",
    "\n",
    "The Purpose of this tutorial is to walkthrough different useful functionalities of python as a programming language for data analysis tasks. This is not a comprehensive tutorial but I hope it can deliver new items for our toolbox.\n",
    "\n"
   ]
  },
  {
   "cell_type": "markdown",
   "metadata": {},
   "source": [
    "references:\n",
    "* https://github.com/jakevdp/PythonDataScienceHandbook\n",
    "* http://tdc-www.harvard.edu/Python.pdf\n",
    "* http://pandas.pydata.org/pandas-docs/stable/10min.html\n",
    "* http://twiecki.github.io/blog/2014/11/18/python-for-data-science/\n",
    "* https://www.dataquest.io/blog/machine-learning-python/\n",
    "* https://docs.python.org\n",
    "* with additional insights from various learning experiences\n"
   ]
  },
  {
   "cell_type": "markdown",
   "metadata": {},
   "source": [
    "## Course Outline\n",
    "\n",
    "* Installation\n",
    "* Navigating the notebook\n",
    "    * importing libraries\n",
    "    * getting help\n",
    "    * SYNTAX - the indentation, code structure\n",
    "    * data types & basic operations\n",
    "    * logical Operators\n",
    "    * variable assignment\n",
    "    > possible break here\n",
    "    * Basic data structures - List, Dicts, Tuples, Strings\n",
    "    * Basic lambda functions\n",
    "    * saving notebook into a script file\n",
    "    \n",
    "* Data Manipulation with Pandas\n",
    "    * Introduction to numpy arrays\n",
    "    * broadcasting, reshaping\n",
    "    * operations on np arrays\n",
    "    * Introduction to pandas\n",
    "    * getting and reading data\n",
    "    * writing data\n",
    "    * DataFrame manipulation \n",
    "        * https://github.com/pandas-dev/pandas/blob/master/doc/cheatsheet/Pandas_Cheat_Sheet.pdf\n",
    "        * creating DataFrame\n",
    "        * subsetting DataFrame (Masking, iloc, loc)\n",
    "        * summarizing data (df.describe,np.sum(), df.head etc)\n",
    "        * adding columns to DataFrame (assign, df method)\n",
    "    * Merging DataFrames\n",
    "    \n",
    "* Introduction to Statistical Analysis and Machine Learning\n",
    "    * correlation\n",
    "    * Statistical tests\n",
    "    * Linear regression\n",
    "    * Intro to scikit functions\n",
    "    \n",
    "* Assignment\n",
    "    \n",
    "\n",
    "\n",
    "\n",
    "\n",
    "\n",
    "\n",
    "\n",
    "\n",
    "\n"
   ]
  },
  {
   "cell_type": "markdown",
   "metadata": {},
   "source": [
    "### Importing libraries\n",
    "in python, we import libraries using the following commands"
   ]
  },
  {
   "cell_type": "code",
   "execution_count": 1,
   "metadata": {
    "collapsed": false
   },
   "outputs": [],
   "source": [
    "import matplotlib.pyplot as plt \n",
    "import numpy as np\n",
    "import pandas as pd"
   ]
  },
  {
   "cell_type": "code",
   "execution_count": 1,
   "metadata": {
    "collapsed": false
   },
   "outputs": [
    {
     "name": "stdout",
     "output_type": "stream",
     "text": [
      "Object `pd` not found.\n"
     ]
    }
   ],
   "source": [
    "#this is how we comment\n",
    "#below is how we find help\n",
    "pd?\n",
    "#help(pd.DataFrame)\n"
   ]
  },
  {
   "cell_type": "markdown",
   "metadata": {},
   "source": [
    "### Basic python syntax\n",
    "* Indentation instead of traditional {curly_braces} \n",
    "* Use \\ when we should go the next line prematurely\n",
    "* in function and class definitions, a colon usually appears\n",
    "* index begins in zero"
   ]
  },
  {
   "cell_type": "code",
   "execution_count": 2,
   "metadata": {
    "collapsed": false
   },
   "outputs": [
    {
     "name": "stdout",
     "output_type": "stream",
     "text": [
      "2 index: 0\n",
      "3 index: 1\n",
      "4 index: 2\n",
      "5 index: 3\n",
      "6 index: 4\n"
     ]
    }
   ],
   "source": [
    "x = [1,2,3,4,5] #example of a list\n",
    "y = [1,1,1,1,1]\n",
    "z = []\n",
    "\n",
    "for i in range(0,len(x)):\n",
    "    z.append(x[i]+y[i])\n",
    "    print(z[i],'index: %.i' %i)\n",
    "\n"
   ]
  },
  {
   "cell_type": "code",
   "execution_count": 3,
   "metadata": {
    "collapsed": false
   },
   "outputs": [
    {
     "name": "stdout",
     "output_type": "stream",
     "text": [
      "[2]\n",
      "[2, 3]\n",
      "[2, 3, 4]\n",
      "[2, 3, 4, 5]\n",
      "[2, 3, 4, 5, 6]\n"
     ]
    },
    {
     "data": {
      "text/plain": [
       "[2, 3, 4, 5, 6]"
      ]
     },
     "execution_count": 3,
     "metadata": {},
     "output_type": "execute_result"
    }
   ],
   "source": [
    "def adder(x,y):\n",
    "    \"\"\" This a docstring for\n",
    "    this adder function\"\"\"\n",
    "    z = [] #initialize z\n",
    "    for i in range(0,len(x)):\n",
    "        z.append(x[i]+y[i])\n",
    "        print(z)    \n",
    "    return z\n",
    "    \n",
    "adder(x,y)\n",
    "        "
   ]
  },
  {
   "cell_type": "markdown",
   "metadata": {},
   "source": [
    "### Data types & basic operations\n"
   ]
  },
  {
   "cell_type": "code",
   "execution_count": 4,
   "metadata": {
    "collapsed": false,
    "scrolled": true
   },
   "outputs": [
    {
     "name": "stdout",
     "output_type": "stream",
     "text": [
      "2 <class 'int'>\n",
      "3.141516 <class 'float'>\n",
      "This is a string <class 'str'>\n",
      "(3+7j) <class 'complex'>\n"
     ]
    }
   ],
   "source": [
    "#integers\n",
    "z = int(5/2)\n",
    "print(z, type(z))\n",
    "\n",
    "#float\n",
    "pi = 3.141516\n",
    "print(pi, type(pi))\n",
    "\n",
    "txt = 'This is a string' #alternatively we can use \"\"\n",
    "print(txt, type(txt))\n",
    "\n",
    "#Complex Number\n",
    "cmp = complex(3,7)\n",
    "print(cmp, type(cmp))"
   ]
  },
  {
   "cell_type": "code",
   "execution_count": 5,
   "metadata": {
    "collapsed": false
   },
   "outputs": [],
   "source": [
    "a = 2+3 #addition\n",
    "b = 3*5 #multiplication\n",
    "c = 121/7 #division\n",
    "d = 7%3 #modulo\n"
   ]
  },
  {
   "cell_type": "code",
   "execution_count": 6,
   "metadata": {
    "collapsed": false
   },
   "outputs": [
    {
     "name": "stdout",
     "output_type": "stream",
     "text": [
      "5\n",
      "15\n",
      "17.285714285714285\n",
      "1\n"
     ]
    }
   ],
   "source": [
    "for i in [a,b,c,d]:\n",
    "    print(i)\n",
    "\n",
    "\n"
   ]
  },
  {
   "cell_type": "markdown",
   "metadata": {},
   "source": [
    "### Logical Operators\n",
    "familiar logical operators are used in python"
   ]
  },
  {
   "cell_type": "code",
   "execution_count": 7,
   "metadata": {
    "collapsed": true
   },
   "outputs": [],
   "source": [
    "x = 5\n",
    "y = 17\n",
    "z = 9"
   ]
  },
  {
   "cell_type": "code",
   "execution_count": 8,
   "metadata": {
    "collapsed": false
   },
   "outputs": [
    {
     "name": "stdout",
     "output_type": "stream",
     "text": [
      "False\n",
      "False\n",
      "True\n",
      "True\n"
     ]
    }
   ],
   "source": [
    "print(x > y) #greater than \n",
    "print(y < 5) #less than\n",
    "print(z == 9) #equal to, note the difference between variable assignment(=) and Logical operator(==)\n",
    "print(y != z) #Not equal to "
   ]
  },
  {
   "cell_type": "code",
   "execution_count": 9,
   "metadata": {
    "collapsed": false
   },
   "outputs": [
    {
     "data": {
      "text/plain": [
       "True"
      ]
     },
     "execution_count": 9,
     "metadata": {},
     "output_type": "execute_result"
    }
   ],
   "source": [
    "(x < 8) or (y != 17) "
   ]
  },
  {
   "cell_type": "code",
   "execution_count": 10,
   "metadata": {
    "collapsed": false
   },
   "outputs": [
    {
     "data": {
      "text/plain": [
       "False"
      ]
     },
     "execution_count": 10,
     "metadata": {},
     "output_type": "execute_result"
    }
   ],
   "source": [
    "(x != 5) and (z > 9)"
   ]
  },
  {
   "cell_type": "code",
   "execution_count": 11,
   "metadata": {
    "collapsed": false
   },
   "outputs": [
    {
     "data": {
      "text/plain": [
       "True"
      ]
     },
     "execution_count": 11,
     "metadata": {},
     "output_type": "execute_result"
    }
   ],
   "source": [
    "not( (x != 5) and (z > 9) )\n",
    "#not gives the opposite"
   ]
  },
  {
   "cell_type": "code",
   "execution_count": 27,
   "metadata": {
    "collapsed": false,
    "scrolled": true
   },
   "outputs": [
    {
     "ename": "SyntaxError",
     "evalue": "invalid syntax (<ipython-input-27-7dfb3d79348d>, line 1)",
     "output_type": "error",
     "traceback": [
      "\u001b[1;36m  File \u001b[1;32m\"<ipython-input-27-7dfb3d79348d>\"\u001b[1;36m, line \u001b[1;32m1\u001b[0m\n\u001b[1;33m    (x != 5) not (z > 9)\u001b[0m\n\u001b[1;37m                 ^\u001b[0m\n\u001b[1;31mSyntaxError\u001b[0m\u001b[1;31m:\u001b[0m invalid syntax\n"
     ]
    }
   ],
   "source": [
    "(x != 5) not (z > 9)"
   ]
  },
  {
   "cell_type": "markdown",
   "metadata": {},
   "source": [
    "### Variable Assignment\n",
    "* In python, variable assignment create references not copies"
   ]
  },
  {
   "cell_type": "code",
   "execution_count": 83,
   "metadata": {
    "collapsed": true
   },
   "outputs": [],
   "source": [
    "x = 4 #assign 4 to x\n",
    "y = x #assing x to y"
   ]
  },
  {
   "cell_type": "code",
   "execution_count": 87,
   "metadata": {
    "collapsed": false
   },
   "outputs": [
    {
     "data": {
      "text/plain": [
       "3"
      ]
     },
     "execution_count": 87,
     "metadata": {},
     "output_type": "execute_result"
    }
   ],
   "source": [
    "x = 3 #change x to 3\n",
    "y #print y\n",
    "\n",
    "#note that y is changed too, y = x  did not create a copy of x to be assigned to y\n",
    "#but why? :)\n",
    "#try to search about Garbage collection"
   ]
  },
  {
   "cell_type": "code",
   "execution_count": 88,
   "metadata": {
    "collapsed": false
   },
   "outputs": [
    {
     "name": "stdout",
     "output_type": "stream",
     "text": [
      "this is x\n",
      "4\n"
     ]
    }
   ],
   "source": [
    "# we can also do multiple assignments\n",
    "x,y = 'this is x', 4\n",
    "print(x)\n",
    "print(y)"
   ]
  },
  {
   "cell_type": "markdown",
   "metadata": {},
   "source": [
    "## Basic Data Structures\n",
    "Lists, strings and tuples are ordered sequences of objects. Unlike strings that contain only characters, list and tuples can contain any type of objects. Lists and tuples are like arrays. Tuples like strings are immutables. Lists are mutables so they can be extended or reduced at will.\n"
   ]
  },
  {
   "cell_type": "markdown",
   "metadata": {},
   "source": [
    "### LISTS\n",
    "* ordered sequence\n",
    "* mutable\n",
    "* can contain any type of objects"
   ]
  },
  {
   "cell_type": "code",
   "execution_count": 12,
   "metadata": {
    "collapsed": false
   },
   "outputs": [
    {
     "data": {
      "text/plain": [
       "[1, 2, 3, 4, 5, 6, 7, 8, 91]"
      ]
     },
     "execution_count": 12,
     "metadata": {},
     "output_type": "execute_result"
    }
   ],
   "source": [
    "smpl = [1,2,3,4,5,6,7,8,91]\n",
    "smpl\n",
    "#Lists are defined by square brackets\n",
    "#lists are mutable"
   ]
  },
  {
   "cell_type": "code",
   "execution_count": 94,
   "metadata": {
    "collapsed": false,
    "scrolled": false
   },
   "outputs": [
    {
     "data": {
      "text/plain": [
       "[1, 2, 4, 5, 6, 7, 8, 91]"
      ]
     },
     "execution_count": 94,
     "metadata": {},
     "output_type": "execute_result"
    }
   ],
   "source": [
    "smpl.pop(2) #here we pop the element at index 2, we can update a list!\n",
    "smpl"
   ]
  },
  {
   "cell_type": "code",
   "execution_count": 97,
   "metadata": {
    "collapsed": false,
    "scrolled": true
   },
   "outputs": [
    {
     "data": {
      "text/plain": [
       "['name', 100, True]"
      ]
     },
     "execution_count": 97,
     "metadata": {},
     "output_type": "execute_result"
    }
   ],
   "source": [
    "random = ['name', 100, True] #Lists can contain different types of object\n",
    "random\n"
   ]
  },
  {
   "cell_type": "markdown",
   "metadata": {},
   "source": [
    "Problem 1: create a list of squared integers from 1 to 100"
   ]
  },
  {
   "cell_type": "code",
   "execution_count": 112,
   "metadata": {
    "collapsed": false
   },
   "outputs": [],
   "source": [
    "\n",
    "# sample of a list comprehension\n",
    "#\n",
    "\n",
    "#squared = [i**2 for i in range(0,100)]\n",
    "#squared"
   ]
  },
  {
   "cell_type": "markdown",
   "metadata": {},
   "source": [
    "### TUPLES\n",
    "* ordered sequence\n",
    "* immutable\n",
    "* can contain any type of objects"
   ]
  },
  {
   "cell_type": "code",
   "execution_count": 98,
   "metadata": {
    "collapsed": false
   },
   "outputs": [
    {
     "data": {
      "text/plain": [
       "(1, 2, 3, 4, 5)"
      ]
     },
     "execution_count": 98,
     "metadata": {},
     "output_type": "execute_result"
    }
   ],
   "source": [
    "tupl = (1,2,3,4,5)\n",
    "tupl"
   ]
  },
  {
   "cell_type": "code",
   "execution_count": 99,
   "metadata": {
    "collapsed": false
   },
   "outputs": [
    {
     "ename": "AttributeError",
     "evalue": "'tuple' object has no attribute 'pop'",
     "output_type": "error",
     "traceback": [
      "\u001b[1;31m---------------------------------------------------------------------------\u001b[0m",
      "\u001b[1;31mAttributeError\u001b[0m                            Traceback (most recent call last)",
      "\u001b[1;32m<ipython-input-99-cb418d1987fe>\u001b[0m in \u001b[0;36m<module>\u001b[1;34m()\u001b[0m\n\u001b[1;32m----> 1\u001b[1;33m \u001b[0mtupl\u001b[0m\u001b[1;33m.\u001b[0m\u001b[0mpop\u001b[0m\u001b[1;33m(\u001b[0m\u001b[1;36m3\u001b[0m\u001b[1;33m)\u001b[0m\u001b[1;33m\u001b[0m\u001b[0m\n\u001b[0m",
      "\u001b[1;31mAttributeError\u001b[0m: 'tuple' object has no attribute 'pop'"
     ]
    }
   ],
   "source": [
    "tupl.pop(3) #this will generate an error, since you cannot modify a tuple!"
   ]
  },
  {
   "cell_type": "markdown",
   "metadata": {},
   "source": [
    "### STRINGS\n",
    "* strings can be thought of as a list\n",
    "* but they are immutable!"
   ]
  },
  {
   "cell_type": "code",
   "execution_count": 14,
   "metadata": {
    "collapsed": false,
    "scrolled": true
   },
   "outputs": [
    {
     "data": {
      "text/plain": [
       "'E'"
      ]
     },
     "execution_count": 14,
     "metadata": {},
     "output_type": "execute_result"
    }
   ],
   "source": [
    "st = \"Hello QBE!\"\n",
    "st[8]"
   ]
  },
  {
   "cell_type": "code",
   "execution_count": 15,
   "metadata": {
    "collapsed": false,
    "scrolled": true
   },
   "outputs": [
    {
     "name": "stdout",
     "output_type": "stream",
     "text": [
      "H\n",
      "e\n",
      "l\n",
      "l\n",
      "o\n",
      " \n",
      "Q\n",
      "B\n",
      "E\n",
      "!\n"
     ]
    }
   ],
   "source": [
    "for i in st:\n",
    "    print(i)"
   ]
  },
  {
   "cell_type": "markdown",
   "metadata": {},
   "source": [
    "How to know what is the type of a data?"
   ]
  },
  {
   "cell_type": "code",
   "execution_count": 16,
   "metadata": {
    "collapsed": true
   },
   "outputs": [],
   "source": [
    "d1 = 'String'\n",
    "d2 = 34\n",
    "d3 = [1,2,3,4]\n",
    "d4 = (a,b,c,d)"
   ]
  },
  {
   "cell_type": "code",
   "execution_count": 18,
   "metadata": {
    "collapsed": false
   },
   "outputs": [
    {
     "name": "stdout",
     "output_type": "stream",
     "text": [
      "<class 'str'>\n",
      "<class 'int'>\n",
      "<class 'list'>\n",
      "<class 'tuple'>\n"
     ]
    }
   ],
   "source": [
    "for i in [d1,d2,d3,d4]:\n",
    "    print(type(i))"
   ]
  },
  {
   "cell_type": "markdown",
   "metadata": {},
   "source": [
    "### DICTS\n",
    "dictionaries are set of key-value pairs, i.e a mapping\n",
    "* objects of different types are ok\n",
    "* keys : any immutable type\n",
    "* values: anything\n",
    "* items are key-value pairs\n",
    "* defined by {curly braces}\n",
    "* indexed by keys"
   ]
  },
  {
   "cell_type": "code",
   "execution_count": 168,
   "metadata": {
    "collapsed": false
   },
   "outputs": [
    {
     "data": {
      "text/plain": [
       "{'QBE': 4500, 'tp1': 100, 'tp2': 200, 'tp3': 500}"
      ]
     },
     "execution_count": 168,
     "metadata": {},
     "output_type": "execute_result"
    }
   ],
   "source": [
    "d = {'tp1': 100, 'tp2': 200, 'tp3': 500, 'QBE': 4500}\n",
    "d"
   ]
  },
  {
   "cell_type": "code",
   "execution_count": 19,
   "metadata": {
    "collapsed": true
   },
   "outputs": [],
   "source": []
  },
  {
   "cell_type": "markdown",
   "metadata": {},
   "source": [
    "**How can we build a dictionary mapping?**"
   ]
  },
  {
   "cell_type": "code",
   "execution_count": 177,
   "metadata": {
    "collapsed": true
   },
   "outputs": [],
   "source": [
    "person = ('A', 'B', 'C', 'D', 'E')\n",
    "password = ('1234' , 'erZe', 'afsd', '1wh32')"
   ]
  },
  {
   "cell_type": "code",
   "execution_count": 185,
   "metadata": {
    "collapsed": false
   },
   "outputs": [],
   "source": [
    "my_dict = {} #initialize dict\n",
    "for k,v in zip(person,password):\n",
    "    my_dict[k] = v\n",
    "\n",
    "#zip function returns a tuple of the passed aruments and makes them into one set"
   ]
  },
  {
   "cell_type": "code",
   "execution_count": 186,
   "metadata": {
    "collapsed": false
   },
   "outputs": [
    {
     "data": {
      "text/plain": [
       "{'A': '1234', 'B': 'erZe', 'C': 'afsd', 'D': '1wh32'}"
      ]
     },
     "execution_count": 186,
     "metadata": {},
     "output_type": "execute_result"
    }
   ],
   "source": [
    "my_dict\n",
    "#what do you notice"
   ]
  },
  {
   "cell_type": "code",
   "execution_count": 189,
   "metadata": {
    "collapsed": false
   },
   "outputs": [
    {
     "data": {
      "text/plain": [
       "dict_keys(['C', 'A', 'B', 'D'])"
      ]
     },
     "execution_count": 189,
     "metadata": {},
     "output_type": "execute_result"
    }
   ],
   "source": [
    "#notice that the values are printed in no particular order\n",
    "my_dict.keys()\n",
    "\n"
   ]
  },
  {
   "cell_type": "code",
   "execution_count": 190,
   "metadata": {
    "collapsed": false
   },
   "outputs": [
    {
     "data": {
      "text/plain": [
       "dict_values(['afsd', '1234', 'erZe', '1wh32'])"
      ]
     },
     "execution_count": 190,
     "metadata": {},
     "output_type": "execute_result"
    }
   ],
   "source": [
    "my_dict.values()"
   ]
  },
  {
   "cell_type": "code",
   "execution_count": 191,
   "metadata": {
    "collapsed": false,
    "scrolled": true
   },
   "outputs": [
    {
     "data": {
      "text/plain": [
       "dict_items([('C', 'afsd'), ('A', '1234'), ('B', 'erZe'), ('D', '1wh32')])"
      ]
     },
     "execution_count": 191,
     "metadata": {},
     "output_type": "execute_result"
    }
   ],
   "source": [
    "my_dict.items()"
   ]
  },
  {
   "cell_type": "code",
   "execution_count": 20,
   "metadata": {
    "collapsed": false
   },
   "outputs": [
    {
     "ename": "NameError",
     "evalue": "name 'my_dict' is not defined",
     "output_type": "error",
     "traceback": [
      "\u001b[1;31m---------------------------------------------------------------------------\u001b[0m",
      "\u001b[1;31mNameError\u001b[0m                                 Traceback (most recent call last)",
      "\u001b[1;32m<ipython-input-20-11eafdf5e72d>\u001b[0m in \u001b[0;36m<module>\u001b[1;34m()\u001b[0m\n\u001b[0;32m      1\u001b[0m \u001b[1;31m#Indexing dicts\u001b[0m\u001b[1;33m\u001b[0m\u001b[1;33m\u001b[0m\u001b[0m\n\u001b[0;32m      2\u001b[0m \u001b[1;31m#dicts are indexed with keys\u001b[0m\u001b[1;33m\u001b[0m\u001b[1;33m\u001b[0m\u001b[0m\n\u001b[1;32m----> 3\u001b[1;33m \u001b[0mmy_dict\u001b[0m\u001b[1;33m[\u001b[0m\u001b[1;34m'F'\u001b[0m\u001b[1;33m]\u001b[0m\u001b[1;33m\u001b[0m\u001b[0m\n\u001b[0m",
      "\u001b[1;31mNameError\u001b[0m: name 'my_dict' is not defined"
     ]
    }
   ],
   "source": [
    "#Indexing dicts\n",
    "#dicts are indexed with keys\n",
    "my_dict['F']\n"
   ]
  },
  {
   "cell_type": "markdown",
   "metadata": {},
   "source": [
    "### Indexing and Slicing\n",
    "most of the time we need to index/filter our data"
   ]
  },
  {
   "cell_type": "code",
   "execution_count": 21,
   "metadata": {
    "collapsed": false
   },
   "outputs": [],
   "source": [
    "t = [\"abc\", 1 , np.exp(1), [100,8,4]]\n",
    "\n"
   ]
  },
  {
   "cell_type": "code",
   "execution_count": null,
   "metadata": {
    "collapsed": false
   },
   "outputs": [],
   "source": []
  },
  {
   "cell_type": "markdown",
   "metadata": {},
   "source": [
    "Problem: How do we get the value 8?"
   ]
  },
  {
   "cell_type": "code",
   "execution_count": 27,
   "metadata": {
    "collapsed": false,
    "scrolled": true
   },
   "outputs": [
    {
     "data": {
      "text/plain": [
       "'abc'"
      ]
     },
     "execution_count": 27,
     "metadata": {},
     "output_type": "execute_result"
    }
   ],
   "source": [
    "# indexing by array notation\n",
    "t[0]"
   ]
  },
  {
   "cell_type": "code",
   "execution_count": 130,
   "metadata": {
    "collapsed": false
   },
   "outputs": [
    {
     "data": {
      "text/plain": [
       "[100, 8, 4]"
      ]
     },
     "execution_count": 130,
     "metadata": {},
     "output_type": "execute_result"
    }
   ],
   "source": [
    "# try negative!\n",
    "t[-1]\n",
    "\n",
    "#what's the difference?"
   ]
  },
  {
   "cell_type": "code",
   "execution_count": 124,
   "metadata": {
    "collapsed": false
   },
   "outputs": [
    {
     "data": {
      "text/plain": [
       "[1, 2.7182818284590451, [100, 8, 4]]"
      ]
     },
     "execution_count": 124,
     "metadata": {},
     "output_type": "execute_result"
    }
   ],
   "source": [
    "#from index 1 up to before index 4\n",
    "t[1:4]"
   ]
  },
  {
   "cell_type": "code",
   "execution_count": 28,
   "metadata": {
    "collapsed": false
   },
   "outputs": [],
   "source": [
    "range?"
   ]
  },
  {
   "cell_type": "code",
   "execution_count": 138,
   "metadata": {
    "collapsed": false,
    "scrolled": true
   },
   "outputs": [
    {
     "data": {
      "text/plain": [
       "[1, 2, 3, 4, 5, 6, 7, 8, 9, 10, 11, 12, 13, 14, 15, 16, 17, 18, 19, 20]"
      ]
     },
     "execution_count": 138,
     "metadata": {},
     "output_type": "execute_result"
    }
   ],
   "source": [
    "#indexing by [start:stop:step]\n",
    "#start:inclusive , stop:exclusive\n",
    "num = [x for x in range(1,21)]\n",
    "num"
   ]
  },
  {
   "cell_type": "code",
   "execution_count": 146,
   "metadata": {
    "collapsed": false
   },
   "outputs": [
    {
     "data": {
      "text/plain": [
       "[1, 4, 7, 10, 13, 16]"
      ]
     },
     "execution_count": 146,
     "metadata": {},
     "output_type": "execute_result"
    }
   ],
   "source": [
    "index1 = num[0:18:3]\n",
    "index1\n"
   ]
  },
  {
   "cell_type": "markdown",
   "metadata": {},
   "source": [
    "**Question how can we reverse this list?**"
   ]
  },
  {
   "cell_type": "markdown",
   "metadata": {},
   "source": [
    "### The in, +,* operators"
   ]
  },
  {
   "cell_type": "code",
   "execution_count": 29,
   "metadata": {
    "collapsed": true
   },
   "outputs": [],
   "source": [
    "a_list = [i**3 for i in range(0,100)]\n"
   ]
  },
  {
   "cell_type": "markdown",
   "metadata": {},
   "source": [
    "above is a sample of List Comprehension"
   ]
  },
  {
   "cell_type": "code",
   "execution_count": 30,
   "metadata": {
    "collapsed": false,
    "scrolled": true
   },
   "outputs": [
    {
     "data": {
      "text/plain": [
       "True"
      ]
     },
     "execution_count": 30,
     "metadata": {},
     "output_type": "execute_result"
    }
   ],
   "source": [
    "# in\n",
    "#Say for example, we want to check if an element is in a list\n",
    "\n",
    "729 in a_list"
   ]
  },
  {
   "cell_type": "code",
   "execution_count": 31,
   "metadata": {
    "collapsed": false
   },
   "outputs": [],
   "source": [
    "# +\n",
    "#the + operatrs for lists is for concatenation\n",
    "zoo = ['tiger', 'rooster', 'pig']\n",
    "add_animal = ['snake', 'kangaroo']\n",
    "current = zoo + add_animal\n"
   ]
  },
  {
   "cell_type": "code",
   "execution_count": 32,
   "metadata": {
    "collapsed": false
   },
   "outputs": [
    {
     "data": {
      "text/plain": [
       "'--Hello Manila --Hello Manila --Hello Manila '"
      ]
     },
     "execution_count": 32,
     "metadata": {},
     "output_type": "execute_result"
    }
   ],
   "source": [
    "# *\n",
    "#the * repeats the original content\n",
    "\"--Hello Manila \"*3"
   ]
  },
  {
   "cell_type": "markdown",
   "metadata": {},
   "source": [
    "## APPEND / POP\n",
    "**What if we want to replace a contents of a list?**"
   ]
  },
  {
   "cell_type": "code",
   "execution_count": 33,
   "metadata": {
    "collapsed": false
   },
   "outputs": [
    {
     "data": {
      "text/plain": [
       "['tiger', 'rooster', 'pig', 'snake', 'kangaroo']"
      ]
     },
     "execution_count": 33,
     "metadata": {},
     "output_type": "execute_result"
    }
   ],
   "source": [
    "current"
   ]
  },
  {
   "cell_type": "code",
   "execution_count": 34,
   "metadata": {
    "collapsed": false
   },
   "outputs": [],
   "source": [
    "current[1] = 'monkey'\n",
    "#here we assigned the element to 'monkey'"
   ]
  },
  {
   "cell_type": "code",
   "execution_count": 35,
   "metadata": {
    "collapsed": false
   },
   "outputs": [
    {
     "data": {
      "text/plain": [
       "['tiger', 'monkey', 'pig', 'snake', 'kangaroo']"
      ]
     },
     "execution_count": 35,
     "metadata": {},
     "output_type": "execute_result"
    }
   ],
   "source": [
    "current"
   ]
  },
  {
   "cell_type": "markdown",
   "metadata": {},
   "source": [
    "**I want to add catterpillar, how can I do it?**"
   ]
  },
  {
   "cell_type": "code",
   "execution_count": 36,
   "metadata": {
    "collapsed": false
   },
   "outputs": [
    {
     "data": {
      "text/plain": [
       "['tiger', 'monkey', 'pig', 'snake', 'kangaroo', 'catterpillar']"
      ]
     },
     "execution_count": 36,
     "metadata": {},
     "output_type": "execute_result"
    }
   ],
   "source": [
    "current.append('catterpillar')\n",
    "current"
   ]
  },
  {
   "cell_type": "markdown",
   "metadata": {},
   "source": [
    "**I want to remove the snake**"
   ]
  },
  {
   "cell_type": "code",
   "execution_count": 40,
   "metadata": {
    "collapsed": false
   },
   "outputs": [
    {
     "data": {
      "text/plain": [
       "['tiger', 'monkey', 'pig', 'kangaroo', 'catterpillar']"
      ]
     },
     "execution_count": 40,
     "metadata": {},
     "output_type": "execute_result"
    }
   ],
   "source": [
    "# snake is in index 3\n",
    "current.pop(3)\n",
    "current"
   ]
  },
  {
   "cell_type": "markdown",
   "metadata": {},
   "source": [
    "### Defining a function with an if-else statement"
   ]
  },
  {
   "cell_type": "code",
   "execution_count": 59,
   "metadata": {
    "collapsed": false
   },
   "outputs": [],
   "source": [
    "def is_larger(x,num):\n",
    "    if x > num:\n",
    "        print('your fave number ' + x + ' is larger than ' +num)\n",
    "    elif x < num:\n",
    "        print('uhhhm this is lesser than your favorite', x)\n",
    "    else:\n",
    "        print('Just equal')"
   ]
  },
  {
   "cell_type": "code",
   "execution_count": 60,
   "metadata": {
    "collapsed": false
   },
   "outputs": [
    {
     "name": "stdout",
     "output_type": "stream",
     "text": [
      "enter your favorite number: 23\n",
      "Enter a random number: 11\n",
      "your fave number 23 is larger than 11\n"
     ]
    }
   ],
   "source": [
    "x = input(\"enter your favorite number: \")\n",
    "num = input(\"Enter a random number: \")\n",
    "is_larger(x,num)"
   ]
  },
  {
   "cell_type": "markdown",
   "metadata": {},
   "source": [
    "**Now we want to save this file as .ipynb format**"
   ]
  },
  {
   "cell_type": "markdown",
   "metadata": {},
   "source": [
    "## Numpy Arrays\n",
    "* core library for scientific computing in python \n",
    "* building blocks of Pandas and some more advanced libraries like tensorflow\n",
    "* Provides high performance multi-dimensional arrays\n"
   ]
  },
  {
   "cell_type": "markdown",
   "metadata": {},
   "source": [
    "**So what's a numpy array?**\n",
    "\n",
    "multi-dimensional arrays that contains values of a single type\n",
    "\n",
    "to see full list of available dtypes see: http://nbviewer.jupyter.org/github/jakevdp/PythonDataScienceHandbook/blob/master/notebooks/02.01-Understanding-Data-Types.ipynb\n",
    "\n",
    "cheat sheet: https://s3.amazonaws.com/assets.datacamp.com/blog_assets/Numpy_Python_Cheat_Sheet.pdf"
   ]
  },
  {
   "cell_type": "code",
   "execution_count": 3,
   "metadata": {
    "collapsed": false
   },
   "outputs": [
    {
     "data": {
      "text/plain": [
       "array([ 12.,   3.,   4.,   5.,   6.,   7.,   8.])"
      ]
     },
     "execution_count": 3,
     "metadata": {},
     "output_type": "execute_result"
    }
   ],
   "source": [
    "import numpy as np\n",
    "\n",
    "n = np.array([12,3,4,5,6,7,8], dtype = 'float64')\n",
    "n\n",
    "\n",
    "#similar to a list\n",
    "#we can specify the dtype"
   ]
  },
  {
   "cell_type": "code",
   "execution_count": 2,
   "metadata": {
    "collapsed": false
   },
   "outputs": [
    {
     "data": {
      "text/plain": [
       "dtype('float64')"
      ]
     },
     "execution_count": 2,
     "metadata": {},
     "output_type": "execute_result"
    }
   ],
   "source": [
    "n.dtype"
   ]
  },
  {
   "cell_type": "code",
   "execution_count": 25,
   "metadata": {
    "collapsed": false,
    "scrolled": true
   },
   "outputs": [
    {
     "name": "stdout",
     "output_type": "stream",
     "text": [
      "[[[ 8 15 13  8 11]\n",
      "  [18 11  8  7  2]\n",
      "  [17 11 15  5  7]\n",
      "  [ 3  6  4 10 11]]\n",
      "\n",
      " [[19  7  6 10  1]\n",
      "  [ 3  5  4 14  6]\n",
      "  [19  2 16 14 12]\n",
      "  [18  4 15 17  7]]\n",
      "\n",
      " [[14  8 18 13 15]\n",
      "  [ 9 13  8 17  9]\n",
      "  [ 9 14 19  0 11]\n",
      "  [ 0 18  8 12 10]]]\n",
      "\n",
      "x has shape: (3, 4, 5)\n",
      "x has size: 60\n",
      "x has ndim: 3 \n",
      "\n",
      "[[[1, 2, 3], [0, 0, 0, 0]] 1]\n",
      "\n",
      "y has shape: (2,)\n",
      "y has size: 2\n",
      "y has ndim: 1 \n",
      "\n"
     ]
    }
   ],
   "source": [
    "#numpy arrays can also be multidimensional arrays\n",
    "np.random.seed(2)\n",
    "\n",
    "x = np.random.randint(20, size = (3,4,5))\n",
    "y = np.array([[[1,2,3], [0,0,0,0]], 1])\n",
    "\n",
    "print(x)\n",
    "print('\\nx has shape:',x.shape)\n",
    "print('x has size:',x.size)\n",
    "print('x has ndim:',x.ndim, '\\n')\n",
    "\n",
    "print(y)\n",
    "print('\\ny has shape:',y.shape)\n",
    "print('y has size:',y.size)\n",
    "print('y has ndim:',y.ndim, '\\n')"
   ]
  },
  {
   "cell_type": "markdown",
   "metadata": {},
   "source": [
    "### Slicing and Indexing"
   ]
  },
  {
   "cell_type": "code",
   "execution_count": 35,
   "metadata": {
    "collapsed": false
   },
   "outputs": [
    {
     "data": {
      "text/plain": [
       "array([[[ 8, 15, 13,  8, 11],\n",
       "        [18, 11,  8,  7,  2],\n",
       "        [17, 11, 15,  5,  7],\n",
       "        [ 3,  6,  4, 10, 11]],\n",
       "\n",
       "       [[19,  7,  6, 10,  1],\n",
       "        [ 3,  5,  4, 14,  6],\n",
       "        [19,  2, 16, 14, 12],\n",
       "        [18,  4, 15, 17,  7]],\n",
       "\n",
       "       [[14,  8, 18, 13, 15],\n",
       "        [ 9, 13,  8, 17,  9],\n",
       "        [ 9, 14, 19,  0, 11],\n",
       "        [ 0, 18,  8, 12, 10]]])"
      ]
     },
     "execution_count": 35,
     "metadata": {},
     "output_type": "execute_result"
    }
   ],
   "source": [
    "x"
   ]
  },
  {
   "cell_type": "markdown",
   "metadata": {},
   "source": [
    "**Subsetting**"
   ]
  },
  {
   "cell_type": "code",
   "execution_count": 33,
   "metadata": {
    "collapsed": false,
    "scrolled": true
   },
   "outputs": [
    {
     "data": {
      "text/plain": [
       "array([[ 8, 15, 13,  8, 11],\n",
       "       [18, 11,  8,  7,  2],\n",
       "       [17, 11, 15,  5,  7],\n",
       "       [ 3,  6,  4, 10, 11]])"
      ]
     },
     "execution_count": 33,
     "metadata": {},
     "output_type": "execute_result"
    }
   ],
   "source": [
    "#indexing numpy arrays:\n",
    "x[0]"
   ]
  },
  {
   "cell_type": "code",
   "execution_count": 34,
   "metadata": {
    "collapsed": false
   },
   "outputs": [
    {
     "data": {
      "text/plain": [
       "array([ 0, 18,  8, 12, 10])"
      ]
     },
     "execution_count": 34,
     "metadata": {},
     "output_type": "execute_result"
    }
   ],
   "source": [
    "x[2,3]"
   ]
  },
  {
   "cell_type": "markdown",
   "metadata": {},
   "source": [
    "**Slicing**"
   ]
  },
  {
   "cell_type": "code",
   "execution_count": 53,
   "metadata": {
    "collapsed": false
   },
   "outputs": [
    {
     "data": {
      "text/plain": [
       "array([[[ 8, 15, 13,  8, 11],\n",
       "        [18, 11,  8,  7,  2],\n",
       "        [17, 11, 15,  5,  7],\n",
       "        [ 3,  6,  4, 10, 11]],\n",
       "\n",
       "       [[19,  7,  6, 10,  1],\n",
       "        [ 3,  5,  4, 14,  6],\n",
       "        [19,  2, 16, 14, 12],\n",
       "        [18,  4, 15, 17,  7]],\n",
       "\n",
       "       [[14,  8, 18, 13, 15],\n",
       "        [ 9, 13,  8, 17,  9],\n",
       "        [ 9, 14, 19,  0, 11],\n",
       "        [ 0, 18,  8, 12, 10]]])"
      ]
     },
     "execution_count": 53,
     "metadata": {},
     "output_type": "execute_result"
    }
   ],
   "source": [
    "x"
   ]
  },
  {
   "cell_type": "code",
   "execution_count": 63,
   "metadata": {
    "collapsed": false,
    "scrolled": true
   },
   "outputs": [
    {
     "data": {
      "text/plain": [
       "array([[[ 8, 15, 13,  8, 11],\n",
       "        [18, 11,  8,  7,  2],\n",
       "        [17, 11, 15,  5,  7],\n",
       "        [ 3,  6,  4, 10, 11]],\n",
       "\n",
       "       [[19,  7,  6, 10,  1],\n",
       "        [ 3,  5,  4, 14,  6],\n",
       "        [19,  2, 16, 14, 12],\n",
       "        [18,  4, 15, 17,  7]]])"
      ]
     },
     "execution_count": 63,
     "metadata": {},
     "output_type": "execute_result"
    }
   ],
   "source": [
    "x[:2] #get first 2 elements of the array"
   ]
  },
  {
   "cell_type": "code",
   "execution_count": 58,
   "metadata": {
    "collapsed": false
   },
   "outputs": [
    {
     "data": {
      "text/plain": [
       "array([[ 8, 15, 13,  8, 11],\n",
       "       [19,  7,  6, 10,  1]])"
      ]
     },
     "execution_count": 58,
     "metadata": {},
     "output_type": "execute_result"
    }
   ],
   "source": [
    "x[:2,0] #from the first 2 elements of the array, get the first element"
   ]
  },
  {
   "cell_type": "code",
   "execution_count": 61,
   "metadata": {
    "collapsed": false,
    "scrolled": true
   },
   "outputs": [
    {
     "data": {
      "text/plain": [
       "array([ 8, 19])"
      ]
     },
     "execution_count": 61,
     "metadata": {},
     "output_type": "execute_result"
    }
   ],
   "source": [
    "x[:2,0,0] #get the first element of the first elements of the first two elements of the array x"
   ]
  },
  {
   "cell_type": "code",
   "execution_count": 84,
   "metadata": {
    "collapsed": false
   },
   "outputs": [
    {
     "data": {
      "text/plain": [
       "array([[18, 11],\n",
       "       [ 3,  5],\n",
       "       [ 9, 13]])"
      ]
     },
     "execution_count": 84,
     "metadata": {},
     "output_type": "execute_result"
    }
   ],
   "source": [
    "x[:len(x),1,:2]"
   ]
  },
  {
   "cell_type": "code",
   "execution_count": 47,
   "metadata": {
    "collapsed": false
   },
   "outputs": [
    {
     "data": {
      "text/plain": [
       "array([1, 2, 3, 4, 5, 6, 7, 8, 9])"
      ]
     },
     "execution_count": 47,
     "metadata": {},
     "output_type": "execute_result"
    }
   ],
   "source": [
    "#Reshaping\n",
    "\n",
    "z = np.arange(1,10)\n",
    "z"
   ]
  },
  {
   "cell_type": "markdown",
   "metadata": {},
   "source": [
    "How do we transform this aray into a 3 by 3 array?"
   ]
  },
  {
   "cell_type": "markdown",
   "metadata": {},
   "source": [
    "## Computation on NP: uFuncs\n",
    "\"vectorized operations\" i.e. operates on ndarrays in an element by element fashion"
   ]
  },
  {
   "cell_type": "code",
   "execution_count": 9,
   "metadata": {
    "collapsed": false
   },
   "outputs": [
    {
     "name": "stdout",
     "output_type": "stream",
     "text": [
      "x      = [0 1 2 3]\n",
      "x + 5  = [6 7 8 9]\n",
      "x - 5  = [-3 -2 -1  0]\n",
      "x * 2  = [0 3 6 9]\n",
      "x / 2  = [ 0.          0.16666667  0.33333333  0.5       ]\n",
      "x // 2 = [0 0 1 1]\n",
      "-x     =  [ 0 -1 -2 -3]\n",
      "x ** 2 =  [0 1 4 9]\n",
      "x % 2  =  [0 1 0 1]\n"
     ]
    }
   ],
   "source": [
    "#Array Arithmetic:\n",
    "x = np.arange(4)\n",
    "\n",
    "print(\"x      =\", x)\n",
    "print(\"x + 5  =\", x + 6)\n",
    "print(\"x - 5  =\", x - 3)\n",
    "print(\"x * 2  =\", x * 3)\n",
    "print(\"x / 2  =\", x / 6)\n",
    "print(\"x // 2 =\", x // 2)\n",
    "print(\"-x     = \", -x)\n",
    "print(\"x ** 2 = \", x ** 2)\n",
    "print(\"x % 2  = \", x % 2)\n",
    "\n"
   ]
  },
  {
   "cell_type": "code",
   "execution_count": 16,
   "metadata": {
    "collapsed": false
   },
   "outputs": [
    {
     "data": {
      "text/plain": [
       "array([[ 6,  4, 10,  8, 12,  2],\n",
       "       [ 3,  2,  5,  4,  6,  1],\n",
       "       [15, 10, 25, 20, 30,  5],\n",
       "       [ 9,  6, 15, 12, 18,  3],\n",
       "       [ 6,  4, 10,  8, 12,  2],\n",
       "       [12,  8, 20, 16, 24,  4]])"
      ]
     },
     "execution_count": 16,
     "metadata": {},
     "output_type": "execute_result"
    }
   ],
   "source": [
    "#Let's try to compute outer products:\n",
    "product_ratings = [2,1,5,3,2,4]\n",
    "user_ratings = [3,2,5,4,6,1]\n",
    "\n",
    "np.multiply.outer(product_ratings, user_ratings)\n",
    "\n"
   ]
  },
  {
   "cell_type": "markdown",
   "metadata": {},
   "source": [
    "Other uFunc details are left as reading assignment"
   ]
  },
  {
   "cell_type": "markdown",
   "metadata": {},
   "source": [
    "## Aggregations"
   ]
  },
  {
   "cell_type": "markdown",
   "metadata": {},
   "source": [
    "**Difference between sum and np.sum or array.sum()?**\n",
    "* **sum()**      : element wise sum\n",
    "* **np.sum('array')**   : multiple array dimensions aware. Returns aggregate over an entire array by default\n",
    "* **array.sum()**: same with np.sum"
   ]
  },
  {
   "cell_type": "code",
   "execution_count": 87,
   "metadata": {
    "collapsed": true
   },
   "outputs": [],
   "source": [
    "big_array = np.random.rand(10)"
   ]
  },
  {
   "cell_type": "code",
   "execution_count": 90,
   "metadata": {
    "collapsed": false,
    "scrolled": false
   },
   "outputs": [
    {
     "data": {
      "text/plain": [
       "4.9796262455118709"
      ]
     },
     "execution_count": 90,
     "metadata": {},
     "output_type": "execute_result"
    }
   ],
   "source": [
    "sum(big_array,big_array)\n",
    "np.sum(big_array)\n",
    "big_array.sum()\n",
    "#try this with min, max"
   ]
  },
  {
   "cell_type": "code",
   "execution_count": 89,
   "metadata": {
    "collapsed": false
   },
   "outputs": [
    {
     "name": "stdout",
     "output_type": "stream",
     "text": [
      "[ 5.41637351  5.75618543  5.51523042  5.93336847  5.52383441  5.06172117\n",
      "  5.34596865  5.83047675  5.38590129  5.00682861]\n",
      "4.97962624551\n",
      "4.97962624551\n"
     ]
    }
   ],
   "source": [
    "print(sum(big_array,big_array))\n",
    "print(np.sum(big_array))\n",
    "print(big_array.sum())"
   ]
  },
  {
   "cell_type": "code",
   "execution_count": 91,
   "metadata": {
    "collapsed": false,
    "scrolled": true
   },
   "outputs": [
    {
     "name": "stdout",
     "output_type": "stream",
     "text": [
      "[[ 0.24717724  0.06714437  0.99385201]\n",
      " [ 0.97058031  0.80025835  0.60181712]\n",
      " [ 0.76495986  0.16922545  0.29302323]\n",
      " [ 0.52406688  0.35662428  0.04567897]]\n"
     ]
    }
   ],
   "source": [
    "M = np.random.random((4,3))\n",
    "print(M)"
   ]
  },
  {
   "cell_type": "code",
   "execution_count": 92,
   "metadata": {
    "collapsed": false
   },
   "outputs": [
    {
     "data": {
      "text/plain": [
       "5.8344080675946302"
      ]
     },
     "execution_count": 92,
     "metadata": {},
     "output_type": "execute_result"
    }
   ],
   "source": [
    "#Defaut is sum overall\n",
    "M.sum()"
   ]
  },
  {
   "cell_type": "code",
   "execution_count": 97,
   "metadata": {
    "collapsed": false
   },
   "outputs": [
    {
     "data": {
      "text/plain": [
       "array([ 2.50678429,  1.39325245,  1.93437133])"
      ]
     },
     "execution_count": 97,
     "metadata": {},
     "output_type": "execute_result"
    }
   ],
   "source": [
    "#Wht if we want to sum per column only?\n",
    "# Use Axis, along which the operation is performed\n",
    "M.sum(axis = 0)\n",
    "# try axis = 1"
   ]
  },
  {
   "cell_type": "markdown",
   "metadata": {},
   "source": [
    "### Broadcasting"
   ]
  },
  {
   "cell_type": "code",
   "execution_count": 94,
   "metadata": {
    "collapsed": false,
    "scrolled": true
   },
   "outputs": [
    {
     "data": {
      "text/plain": [
       "array([3, 4, 5])"
      ]
     },
     "execution_count": 94,
     "metadata": {},
     "output_type": "execute_result"
    }
   ],
   "source": [
    "a = np.array([2,3,4])\n",
    "b = np.array([1,1,1])\n",
    "a+b\n",
    "\n",
    "#recall how binary ufuncs work\n",
    "#element-wise addition"
   ]
  },
  {
   "cell_type": "markdown",
   "metadata": {},
   "source": [
    "What if the dimemnsions do not match?"
   ]
  },
  {
   "cell_type": "code",
   "execution_count": 95,
   "metadata": {
    "collapsed": false,
    "scrolled": true
   },
   "outputs": [
    {
     "data": {
      "text/plain": [
       "array([ 9, 10, 11])"
      ]
     },
     "execution_count": 95,
     "metadata": {},
     "output_type": "execute_result"
    }
   ],
   "source": [
    "a + 7"
   ]
  },
  {
   "cell_type": "markdown",
   "metadata": {},
   "source": [
    "works like: [2,3,4] + [7,7,7]"
   ]
  },
  {
   "cell_type": "code",
   "execution_count": 25,
   "metadata": {
    "collapsed": false,
    "scrolled": true
   },
   "outputs": [
    {
     "data": {
      "text/plain": [
       "array([[ 1.,  1.,  1.],\n",
       "       [ 1.,  1.,  1.],\n",
       "       [ 1.,  1.,  1.]])"
      ]
     },
     "execution_count": 25,
     "metadata": {},
     "output_type": "execute_result"
    }
   ],
   "source": [
    "#Another example:\n",
    "M = np.ones((3,3))\n",
    "M"
   ]
  },
  {
   "cell_type": "code",
   "execution_count": 26,
   "metadata": {
    "collapsed": false
   },
   "outputs": [
    {
     "data": {
      "text/plain": [
       "array([[ 3.,  4.,  5.],\n",
       "       [ 3.,  4.,  5.],\n",
       "       [ 3.,  4.,  5.]])"
      ]
     },
     "execution_count": 26,
     "metadata": {},
     "output_type": "execute_result"
    }
   ],
   "source": [
    "M + a"
   ]
  },
  {
   "cell_type": "code",
   "execution_count": 27,
   "metadata": {
    "collapsed": false
   },
   "outputs": [
    {
     "name": "stdout",
     "output_type": "stream",
     "text": [
      "[0 1 2]\n",
      "[[0]\n",
      " [1]\n",
      " [2]]\n"
     ]
    }
   ],
   "source": [
    "#JUST ONE MORE EXAMPLe\n",
    "a = np.arange(3)\n",
    "b = np.arange(3)[:, np.newaxis]\n",
    "\n",
    "print(a)\n",
    "print(b)"
   ]
  },
  {
   "cell_type": "code",
   "execution_count": 28,
   "metadata": {
    "collapsed": false,
    "scrolled": false
   },
   "outputs": [
    {
     "data": {
      "text/plain": [
       "array([[0, 1, 2],\n",
       "       [1, 2, 3],\n",
       "       [2, 3, 4]])"
      ]
     },
     "execution_count": 28,
     "metadata": {},
     "output_type": "execute_result"
    }
   ],
   "source": [
    "a + b"
   ]
  },
  {
   "cell_type": "markdown",
   "metadata": {},
   "source": [
    "More about rules of broadcasting here: https://docs.scipy.org/doc/numpy/user/basics.broadcasting.html\n",
    "\n",
    "You may also want to see how broadcasting and numpy are used in Neural Netwroks in Tensorflow "
   ]
  },
  {
   "cell_type": "markdown",
   "metadata": {},
   "source": [
    "## Sorting Arrays"
   ]
  },
  {
   "cell_type": "code",
   "execution_count": 100,
   "metadata": {
    "collapsed": true
   },
   "outputs": [],
   "source": [
    "n = np.array([1,3,2,5,3,9,1])"
   ]
  },
  {
   "cell_type": "code",
   "execution_count": 101,
   "metadata": {
    "collapsed": false
   },
   "outputs": [
    {
     "data": {
      "text/plain": [
       "array([1, 1, 2, 3, 3, 5, 9])"
      ]
     },
     "execution_count": 101,
     "metadata": {},
     "output_type": "execute_result"
    }
   ],
   "source": [
    "np.sort(n)"
   ]
  },
  {
   "cell_type": "code",
   "execution_count": 102,
   "metadata": {
    "collapsed": false
   },
   "outputs": [
    {
     "name": "stdout",
     "output_type": "stream",
     "text": [
      "[1 1 2 3 3 5 9]\n"
     ]
    }
   ],
   "source": [
    "n.sort()\n",
    "print(n)"
   ]
  },
  {
   "cell_type": "markdown",
   "metadata": {},
   "source": [
    "argsort returns idices of arrays instead of the actual elements"
   ]
  },
  {
   "cell_type": "code",
   "execution_count": 103,
   "metadata": {
    "collapsed": false
   },
   "outputs": [
    {
     "data": {
      "text/plain": [
       "array([0, 6, 2, 1, 4, 3, 5], dtype=int64)"
      ]
     },
     "execution_count": 103,
     "metadata": {},
     "output_type": "execute_result"
    }
   ],
   "source": [
    "n = np.array([1,3,2,5,3,9,1])\n",
    "np.argsort(n)"
   ]
  },
  {
   "cell_type": "markdown",
   "metadata": {},
   "source": [
    "you may visit http://nbviewer.jupyter.org/github/jakevdp/PythonDataScienceHandbook/blob/master/notebooks/02.08-Sorting.ipynb for an application of sorting to KNN algorithm"
   ]
  },
  {
   "cell_type": "markdown",
   "metadata": {},
   "source": [
    "## Pandas\n",
    "\n",
    "A powerful Data Analysis library for python built on top of Numpy\n",
    "\n",
    "Cheat Sheet: https://s3.amazonaws.com/assets.datacamp.com/blog_assets/PandasPythonForDataScience.pdf"
   ]
  },
  {
   "cell_type": "markdown",
   "metadata": {},
   "source": [
    "### Pandas Objects: Series / DataFrame / Index\n",
    "Pandas objects are specialized Numpy Arrays, i.e. instead of integer indices, they used labels for indices"
   ]
  },
  {
   "cell_type": "markdown",
   "metadata": {},
   "source": [
    "#### SERIES\n",
    "* 1-Dimensional array of indexed data\n",
    "* Generalized Numpy Array\n",
    "* Specialized Dicts"
   ]
  },
  {
   "cell_type": "code",
   "execution_count": 108,
   "metadata": {
    "collapsed": true
   },
   "outputs": [],
   "source": [
    "import pandas as pd"
   ]
  },
  {
   "cell_type": "code",
   "execution_count": 109,
   "metadata": {
    "collapsed": false
   },
   "outputs": [
    {
     "data": {
      "text/plain": [
       "0      1.0\n",
       "1      8.0\n",
       "2     27.0\n",
       "3     64.0\n",
       "4    125.0\n",
       "5    216.0\n",
       "6    343.0\n",
       "7    512.0\n",
       "8    729.0\n",
       "dtype: float64"
      ]
     },
     "execution_count": 109,
     "metadata": {},
     "output_type": "execute_result"
    }
   ],
   "source": [
    "#Let's Construct a series from a list of first ten positive cubic numbers:\n",
    "S = pd.Series([x**3 for x in range(1,10)],  dtype = 'float64')\n",
    "S\n",
    "\n",
    "#Notice that the output has indexes!"
   ]
  },
  {
   "cell_type": "markdown",
   "metadata": {},
   "source": [
    "Notice that the values are just numpy arrays:"
   ]
  },
  {
   "cell_type": "code",
   "execution_count": 104,
   "metadata": {
    "collapsed": false
   },
   "outputs": [
    {
     "ename": "NameError",
     "evalue": "name 'S' is not defined",
     "output_type": "error",
     "traceback": [
      "\u001b[1;31m---------------------------------------------------------------------------\u001b[0m",
      "\u001b[1;31mNameError\u001b[0m                                 Traceback (most recent call last)",
      "\u001b[1;32m<ipython-input-104-d0541185dda0>\u001b[0m in \u001b[0;36m<module>\u001b[1;34m()\u001b[0m\n\u001b[1;32m----> 1\u001b[1;33m \u001b[0mprint\u001b[0m\u001b[1;33m(\u001b[0m\u001b[0mS\u001b[0m\u001b[1;33m.\u001b[0m\u001b[0mindex\u001b[0m\u001b[1;33m)\u001b[0m\u001b[1;33m\u001b[0m\u001b[0m\n\u001b[0m\u001b[0;32m      2\u001b[0m \u001b[0mprint\u001b[0m\u001b[1;33m(\u001b[0m\u001b[0mS\u001b[0m\u001b[1;33m.\u001b[0m\u001b[0mvalues\u001b[0m\u001b[1;33m)\u001b[0m\u001b[1;33m\u001b[0m\u001b[0m\n",
      "\u001b[1;31mNameError\u001b[0m: name 'S' is not defined"
     ]
    }
   ],
   "source": [
    "print(S.index)\n",
    "print(S.values)"
   ]
  },
  {
   "cell_type": "code",
   "execution_count": 110,
   "metadata": {
    "collapsed": false
   },
   "outputs": [
    {
     "data": {
      "text/plain": [
       "0     1.0\n",
       "1     8.0\n",
       "2    27.0\n",
       "dtype: float64"
      ]
     },
     "execution_count": 110,
     "metadata": {},
     "output_type": "execute_result"
    }
   ],
   "source": [
    "#We can also index/slice it like numpy Arrays!\n",
    "S[0:3]"
   ]
  },
  {
   "cell_type": "markdown",
   "metadata": {},
   "source": [
    "**In pandas series, indices are not limited to integers!**\n",
    "\n",
    "it can work like a dictionary"
   ]
  },
  {
   "cell_type": "code",
   "execution_count": 107,
   "metadata": {
    "collapsed": false
   },
   "outputs": [
    {
     "data": {
      "text/plain": [
       "a    0.15\n",
       "b    0.30\n",
       "c    0.12\n",
       "a    0.48\n",
       "dtype: float64"
      ]
     },
     "execution_count": 107,
     "metadata": {},
     "output_type": "execute_result"
    }
   ],
   "source": [
    "ex = pd.Series([.15, .30, .12, .48],\n",
    "              index = ['a','b','c', 'a'])\n",
    "ex"
   ]
  },
  {
   "cell_type": "code",
   "execution_count": 109,
   "metadata": {
    "collapsed": false,
    "scrolled": true
   },
   "outputs": [
    {
     "data": {
      "text/plain": [
       "a    0.15\n",
       "a    0.48\n",
       "dtype: float64"
      ]
     },
     "execution_count": 109,
     "metadata": {},
     "output_type": "execute_result"
    }
   ],
   "source": [
    "ex['a']"
   ]
  },
  {
   "cell_type": "code",
   "execution_count": 111,
   "metadata": {
    "collapsed": true
   },
   "outputs": [],
   "source": [
    "#in fact you can create a series from a dictionary\n",
    "sales_dict = {'Cebu': 38332,\n",
    "              'Makati': 26448,\n",
    "              'BGC': 19651,\n",
    "              'QC': 19552,\n",
    "              'Alabang': 12882}\n",
    "sales = pd.Series(sales_dict)"
   ]
  },
  {
   "cell_type": "code",
   "execution_count": 112,
   "metadata": {
    "collapsed": false,
    "scrolled": true
   },
   "outputs": [
    {
     "data": {
      "text/plain": [
       "Alabang    12882\n",
       "BGC        19651\n",
       "Cebu       38332\n",
       "Makati     26448\n",
       "QC         19552\n",
       "dtype: int64"
      ]
     },
     "execution_count": 112,
     "metadata": {},
     "output_type": "execute_result"
    }
   ],
   "source": [
    "sales"
   ]
  },
  {
   "cell_type": "markdown",
   "metadata": {},
   "source": [
    "* dict : Series\n",
    "* Keys : Index\n",
    "* values : values\n",
    "* arbitrary : typed"
   ]
  },
  {
   "cell_type": "markdown",
   "metadata": {},
   "source": [
    "### NEXT..."
   ]
  },
  {
   "cell_type": "markdown",
   "metadata": {
    "collapsed": true
   },
   "source": [
    "#### DATAFRAME\n",
    "* Generalization of a numpy array\n",
    "* Specialization of python dicts\n",
    "* two-dimensional series"
   ]
  }
 ],
 "metadata": {
  "kernelspec": {
   "display_name": "Python 3",
   "language": "python",
   "name": "python3"
  },
  "language_info": {
   "codemirror_mode": {
    "name": "ipython",
    "version": 3
   },
   "file_extension": ".py",
   "mimetype": "text/x-python",
   "name": "python",
   "nbconvert_exporter": "python",
   "pygments_lexer": "ipython3",
   "version": "3.5.2"
  }
 },
 "nbformat": 4,
 "nbformat_minor": 2
}
