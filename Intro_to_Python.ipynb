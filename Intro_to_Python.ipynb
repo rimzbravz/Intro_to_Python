{
 "cells": [
  {
   "cell_type": "markdown",
   "metadata": {},
   "source": [
    "## Welcome to Python!!\n",
    "a knowledge sharing session"
   ]
  },
  {
   "cell_type": "markdown",
   "metadata": {},
   "source": [
    "references:\n",
    "* https://github.com/jakevdp/PythonDataScienceHandbook\n",
    "* http://tdc-www.harvard.edu/Python.pdf\n",
    "* http://pandas.pydata.org/pandas-docs/stable/10min.html\n",
    "* http://twiecki.github.io/blog/2014/11/18/python-for-data-science/\n",
    "* https://www.dataquest.io/blog/machine-learning-python/\n",
    "* with additional insights from various learning experiences"
   ]
  },
  {
   "cell_type": "markdown",
   "metadata": {},
   "source": [
    "## Course Outline\n",
    "\n",
    "* Installation\n",
    "* Navigating the notebook\n",
    "    * importing libraries\n",
    "    * getting help\n",
    "    * SYNTAX - the indentation, code structure\n",
    "    * data types & basic operations\n",
    "    * logical Operators\n",
    "    * variable assignment\n",
    "    > possible break here\n",
    "    * Basic data structures - List, Dicts, Tuples, Strings\n",
    "    * Basic lambda functions\n",
    "    * saving notebook into a script file\n",
    "    \n",
    "* Data Manipulation with Pandas\n",
    "    * Introduction to numpy arrays\n",
    "    * broadcasting, reshaping\n",
    "    * operations on np arrays\n",
    "    * Introduction to pandas\n",
    "    * getting and reading data\n",
    "    * writing data\n",
    "    * DataFrame manipulation \n",
    "        * https://github.com/pandas-dev/pandas/blob/master/doc/cheatsheet/Pandas_Cheat_Sheet.pdf\n",
    "        * creating DataFrame\n",
    "        * subsetting DataFrame (Masking, iloc, loc)\n",
    "        * summarizing data (df.describe,np.sum(), df.head etc)\n",
    "        * adding columns to DataFrame (assign, df method)\n",
    "    * Merging DataFrames\n",
    "    \n",
    "* Introduction to Statistical Analysis and Machine Learning\n",
    "    * correlation\n",
    "    * Statistical tests\n",
    "    * Linear regression\n",
    "    * Intro to scikit functions\n",
    "    \n",
    "* Assignment\n",
    "    \n",
    "\n",
    "\n",
    "\n",
    "\n",
    "\n",
    "\n",
    "\n",
    "\n",
    "\n"
   ]
  },
  {
   "cell_type": "markdown",
   "metadata": {},
   "source": [
    "### Importing libraries\n",
    "in python, we import libraries using the following commands"
   ]
  },
  {
   "cell_type": "code",
   "execution_count": 2,
   "metadata": {
    "collapsed": false
   },
   "outputs": [],
   "source": [
    "import matplotlib.pyplot as plt \n",
    "import numpy as np\n",
    "import pandas as pd"
   ]
  },
  {
   "cell_type": "code",
   "execution_count": 1,
   "metadata": {
    "collapsed": false
   },
   "outputs": [
    {
     "name": "stdout",
     "output_type": "stream",
     "text": [
      "Object `pd` not found.\n"
     ]
    }
   ],
   "source": [
    "#this is how we comment\n",
    "#below is how we find help\n",
    "pd?\n",
    "#help(pd.DataFrame)\n"
   ]
  },
  {
   "cell_type": "markdown",
   "metadata": {},
   "source": [
    "### Basic python syntax\n",
    "* Indentation instead of traditional {curly_braces} \n",
    "* Use \\ when we should go the next line prematurely\n",
    "* in function and class definitions, a colon usually appears\n",
    "* index begins in zero"
   ]
  },
  {
   "cell_type": "code",
   "execution_count": 79,
   "metadata": {
    "collapsed": false
   },
   "outputs": [
    {
     "name": "stdout",
     "output_type": "stream",
     "text": [
      "2 index: 0\n",
      "3 index: 1\n",
      "4 index: 2\n",
      "5 index: 3\n",
      "6 index: 4\n"
     ]
    }
   ],
   "source": [
    "x = [1,2,3,4,5] #example of a list\n",
    "y = [1,1,1,1,1]\n",
    "z = []\n",
    "\n",
    "for i in range(0,len(x)):\n",
    "    z.append(x[i]+y[i])\n",
    "    print(z[i],'index: %.i' %i)\n",
    "\n"
   ]
  },
  {
   "cell_type": "code",
   "execution_count": 82,
   "metadata": {
    "collapsed": false
   },
   "outputs": [
    {
     "name": "stdout",
     "output_type": "stream",
     "text": [
      "[2]\n",
      "[2, 3]\n",
      "[2, 3, 4]\n",
      "[2, 3, 4, 5]\n",
      "[2, 3, 4, 5, 6]\n"
     ]
    },
    {
     "data": {
      "text/plain": [
       "[2, 3, 4, 5, 6]"
      ]
     },
     "execution_count": 82,
     "metadata": {},
     "output_type": "execute_result"
    }
   ],
   "source": [
    "def adder(x,y):\n",
    "    \"\"\" This a docstring for\n",
    "    this adder function\"\"\"\n",
    "    z = [] #initialize z\n",
    "    for i in range(0,len(x)):\n",
    "        z.append(x[i]+y[i])\n",
    "        print(z)    \n",
    "    return z\n",
    "    \n",
    "adder(x,y)\n",
    "        "
   ]
  },
  {
   "cell_type": "markdown",
   "metadata": {},
   "source": [
    "### Data types & basic operations\n"
   ]
  },
  {
   "cell_type": "code",
   "execution_count": 3,
   "metadata": {
    "collapsed": false,
    "scrolled": true
   },
   "outputs": [
    {
     "name": "stdout",
     "output_type": "stream",
     "text": [
      "2 <class 'int'>\n",
      "3.141516 <class 'float'>\n",
      "This is a string <class 'str'>\n",
      "(3+7j) <class 'complex'>\n"
     ]
    }
   ],
   "source": [
    "#integers\n",
    "z = int(5/2)\n",
    "print(z, type(z))\n",
    "\n",
    "#float\n",
    "pi = 3.141516\n",
    "print(pi, type(pi))\n",
    "\n",
    "txt = 'This is a string' #alternatively we can use \"\"\n",
    "print(txt, type(txt))\n",
    "\n",
    "#Complex Number\n",
    "cmp = complex(3,7)\n",
    "print(cmp, type(cmp))"
   ]
  },
  {
   "cell_type": "code",
   "execution_count": 4,
   "metadata": {
    "collapsed": false
   },
   "outputs": [],
   "source": [
    "a = 2+3 #addition\n",
    "b = 3*5 #multiplication\n",
    "c = 121/7 #division\n",
    "d = 7%3 #modulo\n"
   ]
  },
  {
   "cell_type": "code",
   "execution_count": 12,
   "metadata": {
    "collapsed": false
   },
   "outputs": [
    {
     "name": "stdout",
     "output_type": "stream",
     "text": [
      "5\n",
      "15\n",
      "17.285714285714285\n",
      "1\n"
     ]
    }
   ],
   "source": [
    "for i in [a,b,c,d]:\n",
    "    print(i)\n",
    "\n",
    "\n"
   ]
  },
  {
   "cell_type": "markdown",
   "metadata": {},
   "source": [
    "### Logical Operators\n",
    "in python, logical operators are words not symbols (and, or, not)\n",
    "\n",
    "numerical comparisons are conventional"
   ]
  },
  {
   "cell_type": "code",
   "execution_count": 13,
   "metadata": {
    "collapsed": true
   },
   "outputs": [],
   "source": [
    "x = 5\n",
    "y = 17\n",
    "z = 9"
   ]
  },
  {
   "cell_type": "code",
   "execution_count": 19,
   "metadata": {
    "collapsed": false
   },
   "outputs": [
    {
     "name": "stdout",
     "output_type": "stream",
     "text": [
      "False\n",
      "False\n",
      "True\n",
      "True\n"
     ]
    }
   ],
   "source": [
    "print(x > y)\n",
    "print(y < 5)\n",
    "print(z == 9)\n",
    "print(y != z)"
   ]
  },
  {
   "cell_type": "code",
   "execution_count": 20,
   "metadata": {
    "collapsed": false
   },
   "outputs": [
    {
     "data": {
      "text/plain": [
       "True"
      ]
     },
     "execution_count": 20,
     "metadata": {},
     "output_type": "execute_result"
    }
   ],
   "source": [
    "(x < 8) or (y != 17) "
   ]
  },
  {
   "cell_type": "code",
   "execution_count": 21,
   "metadata": {
    "collapsed": false
   },
   "outputs": [
    {
     "data": {
      "text/plain": [
       "False"
      ]
     },
     "execution_count": 21,
     "metadata": {},
     "output_type": "execute_result"
    }
   ],
   "source": [
    "(x != 5) and (z > 9)"
   ]
  },
  {
   "cell_type": "code",
   "execution_count": 26,
   "metadata": {
    "collapsed": false
   },
   "outputs": [
    {
     "data": {
      "text/plain": [
       "True"
      ]
     },
     "execution_count": 26,
     "metadata": {},
     "output_type": "execute_result"
    }
   ],
   "source": [
    "not( (x != 5) and (z > 9) )\n",
    "#not gives the opposite"
   ]
  },
  {
   "cell_type": "code",
   "execution_count": 27,
   "metadata": {
    "collapsed": false,
    "scrolled": true
   },
   "outputs": [
    {
     "ename": "SyntaxError",
     "evalue": "invalid syntax (<ipython-input-27-7dfb3d79348d>, line 1)",
     "output_type": "error",
     "traceback": [
      "\u001b[1;36m  File \u001b[1;32m\"<ipython-input-27-7dfb3d79348d>\"\u001b[1;36m, line \u001b[1;32m1\u001b[0m\n\u001b[1;33m    (x != 5) not (z > 9)\u001b[0m\n\u001b[1;37m                 ^\u001b[0m\n\u001b[1;31mSyntaxError\u001b[0m\u001b[1;31m:\u001b[0m invalid syntax\n"
     ]
    }
   ],
   "source": [
    "(x != 5) not (z > 9)"
   ]
  },
  {
   "cell_type": "markdown",
   "metadata": {},
   "source": [
    "### Variable Assignment\n",
    "* In python, variable assignment create references not copies"
   ]
  },
  {
   "cell_type": "code",
   "execution_count": 83,
   "metadata": {
    "collapsed": true
   },
   "outputs": [],
   "source": [
    "x = 4 #assign 4 to x\n",
    "y = x #assing x to y"
   ]
  },
  {
   "cell_type": "code",
   "execution_count": 87,
   "metadata": {
    "collapsed": false
   },
   "outputs": [
    {
     "data": {
      "text/plain": [
       "3"
      ]
     },
     "execution_count": 87,
     "metadata": {},
     "output_type": "execute_result"
    }
   ],
   "source": [
    "x = 3 #change x to 3\n",
    "y #print y\n",
    "\n",
    "#note that y is changed too, y = x  did not create a copy of x to be assigned to y\n",
    "#but why? :)\n",
    "#try to search Garbage collection"
   ]
  },
  {
   "cell_type": "code",
   "execution_count": 88,
   "metadata": {
    "collapsed": false
   },
   "outputs": [
    {
     "name": "stdout",
     "output_type": "stream",
     "text": [
      "this is x\n",
      "4\n"
     ]
    }
   ],
   "source": [
    "# we can also do multiple assignments\n",
    "x,y = 'this is x', 4\n",
    "print(x)\n",
    "print(y)"
   ]
  },
  {
   "cell_type": "markdown",
   "metadata": {},
   "source": [
    "### Basic Data Structures\n",
    "Lists, strings and tuples are ordered sequences of objects. Unlike strings that contain only characters, list and tuples can contain any type of objects. Lists and tuples are like arrays. Tuples like strings are immutables. Lists are mutables so they can be extended or reduced at will. Sets are mutable unordered sequence of unique elements whereas frozensets are immutable sets.\n"
   ]
  },
  {
   "cell_type": "markdown",
   "metadata": {},
   "source": [
    "#### LISTS\n",
    "* ordered sequence\n",
    "* mutable\n",
    "* can contain any type of objects"
   ]
  },
  {
   "cell_type": "raw",
   "metadata": {},
   "source": []
  },
  {
   "cell_type": "code",
   "execution_count": 93,
   "metadata": {
    "collapsed": false
   },
   "outputs": [
    {
     "data": {
      "text/plain": [
       "[1, 2, 3, 4, 5, 6, 7, 8, 91]"
      ]
     },
     "execution_count": 93,
     "metadata": {},
     "output_type": "execute_result"
    }
   ],
   "source": [
    "smpl = [1,2,3,4,5,6,7,8,91]\n",
    "smpl\n",
    "#Squares are defined by square brackets\n",
    "#lists are mutable"
   ]
  },
  {
   "cell_type": "code",
   "execution_count": 94,
   "metadata": {
    "collapsed": false,
    "scrolled": false
   },
   "outputs": [
    {
     "data": {
      "text/plain": [
       "[1, 2, 4, 5, 6, 7, 8, 91]"
      ]
     },
     "execution_count": 94,
     "metadata": {},
     "output_type": "execute_result"
    }
   ],
   "source": [
    "smpl.pop(2) #here we pop the element at index 2, we can update a list!\n",
    "smpl"
   ]
  },
  {
   "cell_type": "code",
   "execution_count": 97,
   "metadata": {
    "collapsed": false,
    "scrolled": true
   },
   "outputs": [
    {
     "data": {
      "text/plain": [
       "['name', 100, True]"
      ]
     },
     "execution_count": 97,
     "metadata": {},
     "output_type": "execute_result"
    }
   ],
   "source": [
    "random = ['name', 100, True] #Lists can contain different types of object\n",
    "random\n"
   ]
  },
  {
   "cell_type": "markdown",
   "metadata": {},
   "source": [
    "Problem 1: create a list of squared integers from 1 to 100"
   ]
  },
  {
   "cell_type": "code",
   "execution_count": 112,
   "metadata": {
    "collapsed": false
   },
   "outputs": [],
   "source": [
    "\n",
    "# sample of a list comprehension\n",
    "#\n",
    "\n",
    "#squared = [i**2 for i in range(0,100)]\n",
    "#squared"
   ]
  },
  {
   "cell_type": "markdown",
   "metadata": {},
   "source": [
    "#### TUPLES\n",
    "* ordered sequence\n",
    "* immutable\n",
    "* can contain any type of objects"
   ]
  },
  {
   "cell_type": "code",
   "execution_count": 98,
   "metadata": {
    "collapsed": false
   },
   "outputs": [
    {
     "data": {
      "text/plain": [
       "(1, 2, 3, 4, 5)"
      ]
     },
     "execution_count": 98,
     "metadata": {},
     "output_type": "execute_result"
    }
   ],
   "source": [
    "tupl = (1,2,3,4,5)\n",
    "tupl"
   ]
  },
  {
   "cell_type": "code",
   "execution_count": 99,
   "metadata": {
    "collapsed": false
   },
   "outputs": [
    {
     "ename": "AttributeError",
     "evalue": "'tuple' object has no attribute 'pop'",
     "output_type": "error",
     "traceback": [
      "\u001b[1;31m---------------------------------------------------------------------------\u001b[0m",
      "\u001b[1;31mAttributeError\u001b[0m                            Traceback (most recent call last)",
      "\u001b[1;32m<ipython-input-99-cb418d1987fe>\u001b[0m in \u001b[0;36m<module>\u001b[1;34m()\u001b[0m\n\u001b[1;32m----> 1\u001b[1;33m \u001b[0mtupl\u001b[0m\u001b[1;33m.\u001b[0m\u001b[0mpop\u001b[0m\u001b[1;33m(\u001b[0m\u001b[1;36m3\u001b[0m\u001b[1;33m)\u001b[0m\u001b[1;33m\u001b[0m\u001b[0m\n\u001b[0m",
      "\u001b[1;31mAttributeError\u001b[0m: 'tuple' object has no attribute 'pop'"
     ]
    }
   ],
   "source": [
    "tupl.pop(3) #this will generate an error"
   ]
  },
  {
   "cell_type": "markdown",
   "metadata": {},
   "source": [
    "#### STRINGS\n",
    "* strings can be thought of as a list\n",
    "* but they are immutable!"
   ]
  },
  {
   "cell_type": "code",
   "execution_count": 166,
   "metadata": {
    "collapsed": false
   },
   "outputs": [
    {
     "data": {
      "text/plain": [
       "'E'"
      ]
     },
     "execution_count": 166,
     "metadata": {},
     "output_type": "execute_result"
    }
   ],
   "source": [
    "st = \"Hello QBE!\"\n",
    "st[8]"
   ]
  },
  {
   "cell_type": "markdown",
   "metadata": {},
   "source": [
    "### Indexing and Slicing\n",
    "most of the time we need to index/filter our data"
   ]
  },
  {
   "cell_type": "code",
   "execution_count": 122,
   "metadata": {
    "collapsed": false
   },
   "outputs": [],
   "source": [
    "t = [\"abc\", 1 , np.exp(1), [100,8,4]]\n",
    "\n"
   ]
  },
  {
   "cell_type": "markdown",
   "metadata": {},
   "source": [
    "Problem: How do we get the value 8?"
   ]
  },
  {
   "cell_type": "code",
   "execution_count": 123,
   "metadata": {
    "collapsed": false,
    "scrolled": true
   },
   "outputs": [
    {
     "name": "stdout",
     "output_type": "stream",
     "text": [
      "4\n",
      "3\n"
     ]
    }
   ],
   "source": [
    "# indexing by array notation\n",
    "t[0]"
   ]
  },
  {
   "cell_type": "code",
   "execution_count": 130,
   "metadata": {
    "collapsed": false
   },
   "outputs": [
    {
     "data": {
      "text/plain": [
       "[100, 8, 4]"
      ]
     },
     "execution_count": 130,
     "metadata": {},
     "output_type": "execute_result"
    }
   ],
   "source": [
    "# try negative!\n",
    "t[-1]\n",
    "\n",
    "#what's the difference?"
   ]
  },
  {
   "cell_type": "code",
   "execution_count": 124,
   "metadata": {
    "collapsed": false
   },
   "outputs": [
    {
     "data": {
      "text/plain": [
       "[1, 2.7182818284590451, [100, 8, 4]]"
      ]
     },
     "execution_count": 124,
     "metadata": {},
     "output_type": "execute_result"
    }
   ],
   "source": [
    "#from index 1 up to before index 4\n",
    "t[1:4]"
   ]
  },
  {
   "cell_type": "code",
   "execution_count": 126,
   "metadata": {
    "collapsed": false
   },
   "outputs": [],
   "source": [
    "#t[3][2]"
   ]
  },
  {
   "cell_type": "code",
   "execution_count": 138,
   "metadata": {
    "collapsed": false,
    "scrolled": true
   },
   "outputs": [
    {
     "data": {
      "text/plain": [
       "[1, 2, 3, 4, 5, 6, 7, 8, 9, 10, 11, 12, 13, 14, 15, 16, 17, 18, 19, 20]"
      ]
     },
     "execution_count": 138,
     "metadata": {},
     "output_type": "execute_result"
    }
   ],
   "source": [
    "#indexing by [start:stop:step]\n",
    "num = [x for x in range(1,21)]\n",
    "num"
   ]
  },
  {
   "cell_type": "code",
   "execution_count": 146,
   "metadata": {
    "collapsed": false
   },
   "outputs": [
    {
     "data": {
      "text/plain": [
       "[1, 4, 7, 10, 13, 16]"
      ]
     },
     "execution_count": 146,
     "metadata": {},
     "output_type": "execute_result"
    }
   ],
   "source": [
    "index1 = num[0:18:3]\n",
    "index1\n"
   ]
  },
  {
   "cell_type": "markdown",
   "metadata": {},
   "source": [
    "**Question how can we reverse this list?**"
   ]
  },
  {
   "cell_type": "markdown",
   "metadata": {},
   "source": [
    "### The 'in', '+', '*' operators"
   ]
  },
  {
   "cell_type": "code",
   "execution_count": 149,
   "metadata": {
    "collapsed": true
   },
   "outputs": [],
   "source": [
    "# in\n",
    "#Say for example, we want to check if an element is in a list\n",
    "a_list = [i**3 for i in range(0,100)]"
   ]
  },
  {
   "cell_type": "code",
   "execution_count": 151,
   "metadata": {
    "collapsed": false,
    "scrolled": true
   },
   "outputs": [
    {
     "data": {
      "text/plain": [
       "True"
      ]
     },
     "execution_count": 151,
     "metadata": {},
     "output_type": "execute_result"
    }
   ],
   "source": [
    "729 in a_list"
   ]
  },
  {
   "cell_type": "code",
   "execution_count": 157,
   "metadata": {
    "collapsed": false
   },
   "outputs": [],
   "source": [
    "# +\n",
    "#the + operatrs for lists is for concatenation\n",
    "zoo = ['tiger', 'rooster', 'pig']\n",
    "add_animal = ['snake', 'kangaroo']\n",
    "current = zoo + add_animal\n"
   ]
  },
  {
   "cell_type": "code",
   "execution_count": 155,
   "metadata": {
    "collapsed": false
   },
   "outputs": [
    {
     "data": {
      "text/plain": [
       "'--Hello Manila --Hello Manila --Hello Manila '"
      ]
     },
     "execution_count": 155,
     "metadata": {},
     "output_type": "execute_result"
    }
   ],
   "source": [
    "# *\n",
    "#the * repeats the original content\n",
    "\"--Hello Manila \"*3"
   ]
  },
  {
   "cell_type": "markdown",
   "metadata": {},
   "source": [
    "**What if we want to replace a contents of a list?**"
   ]
  },
  {
   "cell_type": "code",
   "execution_count": 158,
   "metadata": {
    "collapsed": false
   },
   "outputs": [
    {
     "data": {
      "text/plain": [
       "['tiger', 'rooster', 'pig', 'snake', 'kangaroo']"
      ]
     },
     "execution_count": 158,
     "metadata": {},
     "output_type": "execute_result"
    }
   ],
   "source": [
    "current"
   ]
  },
  {
   "cell_type": "code",
   "execution_count": 161,
   "metadata": {
    "collapsed": false
   },
   "outputs": [],
   "source": [
    "current[1] = 'monkey'"
   ]
  },
  {
   "cell_type": "code",
   "execution_count": 162,
   "metadata": {
    "collapsed": false
   },
   "outputs": [
    {
     "data": {
      "text/plain": [
       "['tiger', 'monkey', 'pig', 'snake', 'kangaroo']"
      ]
     },
     "execution_count": 162,
     "metadata": {},
     "output_type": "execute_result"
    }
   ],
   "source": [
    "current"
   ]
  },
  {
   "cell_type": "markdown",
   "metadata": {},
   "source": [
    "**I want to add catterpillar, how can I do it?**"
   ]
  },
  {
   "cell_type": "code",
   "execution_count": 164,
   "metadata": {
    "collapsed": false
   },
   "outputs": [
    {
     "data": {
      "text/plain": [
       "['tiger', 'monkey', 'pig', 'snake', 'kangaroo', 'catterpillar']"
      ]
     },
     "execution_count": 164,
     "metadata": {},
     "output_type": "execute_result"
    }
   ],
   "source": [
    "current.append('catterpillar')\n",
    "current"
   ]
  },
  {
   "cell_type": "markdown",
   "metadata": {},
   "source": [
    "### DICTS (*dictionaries*)\n",
    "dictionaries are set of key-value pairs, i.e a mapping\n",
    "* objects of different types are ok\n",
    "* keys : any immutable type\n",
    "* values: anything\n",
    "* items are key-value pairs\n",
    "* defined by {curly braces}\n",
    "* indexed by keys"
   ]
  },
  {
   "cell_type": "code",
   "execution_count": 168,
   "metadata": {
    "collapsed": false
   },
   "outputs": [
    {
     "data": {
      "text/plain": [
       "{'QBE': 4500, 'tp1': 100, 'tp2': 200, 'tp3': 500}"
      ]
     },
     "execution_count": 168,
     "metadata": {},
     "output_type": "execute_result"
    }
   ],
   "source": [
    "d = {'tp1': 100, 'tp2': 200, 'tp3': 500, 'QBE': 4500}\n",
    "d"
   ]
  },
  {
   "cell_type": "markdown",
   "metadata": {},
   "source": [
    "**How can we build a mapping?**"
   ]
  },
  {
   "cell_type": "code",
   "execution_count": 177,
   "metadata": {
    "collapsed": true
   },
   "outputs": [],
   "source": [
    "person = ('A', 'B', 'C', 'D', 'E')\n",
    "password = ('1234' , 'erZe', 'afsd', '1wh32')"
   ]
  },
  {
   "cell_type": "code",
   "execution_count": 185,
   "metadata": {
    "collapsed": false
   },
   "outputs": [],
   "source": [
    "my_dict = {} #initialize dict\n",
    "for k,v in zip(person,password):\n",
    "    my_dict[k] = v\n"
   ]
  },
  {
   "cell_type": "code",
   "execution_count": 186,
   "metadata": {
    "collapsed": false
   },
   "outputs": [
    {
     "data": {
      "text/plain": [
       "{'A': '1234', 'B': 'erZe', 'C': 'afsd', 'D': '1wh32'}"
      ]
     },
     "execution_count": 186,
     "metadata": {},
     "output_type": "execute_result"
    }
   ],
   "source": [
    "my_dict\n",
    "#what do you notice"
   ]
  },
  {
   "cell_type": "code",
   "execution_count": 189,
   "metadata": {
    "collapsed": false
   },
   "outputs": [
    {
     "data": {
      "text/plain": [
       "dict_keys(['C', 'A', 'B', 'D'])"
      ]
     },
     "execution_count": 189,
     "metadata": {},
     "output_type": "execute_result"
    }
   ],
   "source": [
    "#notice that the values are printed in no particular order\n",
    "my_dict.keys()\n",
    "\n"
   ]
  },
  {
   "cell_type": "code",
   "execution_count": 190,
   "metadata": {
    "collapsed": false
   },
   "outputs": [
    {
     "data": {
      "text/plain": [
       "dict_values(['afsd', '1234', 'erZe', '1wh32'])"
      ]
     },
     "execution_count": 190,
     "metadata": {},
     "output_type": "execute_result"
    }
   ],
   "source": [
    "my_dict.values()"
   ]
  },
  {
   "cell_type": "code",
   "execution_count": 191,
   "metadata": {
    "collapsed": false,
    "scrolled": true
   },
   "outputs": [
    {
     "data": {
      "text/plain": [
       "dict_items([('C', 'afsd'), ('A', '1234'), ('B', 'erZe'), ('D', '1wh32')])"
      ]
     },
     "execution_count": 191,
     "metadata": {},
     "output_type": "execute_result"
    }
   ],
   "source": [
    "my_dict.items()"
   ]
  },
  {
   "cell_type": "code",
   "execution_count": 193,
   "metadata": {
    "collapsed": false
   },
   "outputs": [
    {
     "ename": "KeyError",
     "evalue": "'F'",
     "output_type": "error",
     "traceback": [
      "\u001b[1;31m---------------------------------------------------------------------------\u001b[0m",
      "\u001b[1;31mKeyError\u001b[0m                                  Traceback (most recent call last)",
      "\u001b[1;32m<ipython-input-193-11eafdf5e72d>\u001b[0m in \u001b[0;36m<module>\u001b[1;34m()\u001b[0m\n\u001b[0;32m      1\u001b[0m \u001b[1;31m#Indexing dicts\u001b[0m\u001b[1;33m\u001b[0m\u001b[1;33m\u001b[0m\u001b[0m\n\u001b[0;32m      2\u001b[0m \u001b[1;31m#dicts are indexed with keys\u001b[0m\u001b[1;33m\u001b[0m\u001b[1;33m\u001b[0m\u001b[0m\n\u001b[1;32m----> 3\u001b[1;33m \u001b[0mmy_dict\u001b[0m\u001b[1;33m[\u001b[0m\u001b[1;34m'F'\u001b[0m\u001b[1;33m]\u001b[0m\u001b[1;33m\u001b[0m\u001b[0m\n\u001b[0m",
      "\u001b[1;31mKeyError\u001b[0m: 'F'"
     ]
    }
   ],
   "source": [
    "#Indexing dicts\n",
    "#dicts are indexed with keys\n",
    "my_dict['F']\n",
    "#notice the error! it's \"KeyError\" hahaha"
   ]
  },
  {
   "cell_type": "markdown",
   "metadata": {},
   "source": [
    "### Lambda Functions\n",
    "\"a function has no name\"\n",
    "* lambda : arguments expression"
   ]
  },
  {
   "cell_type": "code",
   "execution_count": 196,
   "metadata": {
    "collapsed": false
   },
   "outputs": [],
   "source": [
    "#Lambda functions are anonymous functions, used only on the line they are called\n",
    "def mult_list(x):\n",
    "    for i in x:\n",
    "        i*=i\n",
    "    return(i)"
   ]
  },
  {
   "cell_type": "code",
   "execution_count": 197,
   "metadata": {
    "collapsed": false
   },
   "outputs": [
    {
     "data": {
      "text/plain": [
       "36"
      ]
     },
     "execution_count": 197,
     "metadata": {},
     "output_type": "execute_result"
    }
   ],
   "source": [
    "s = [1,2,3,4,5,6]\n",
    "result = mult_list(s)"
   ]
  },
  {
   "cell_type": "code",
   "execution_count": 205,
   "metadata": {
    "collapsed": false,
    "scrolled": true
   },
   "outputs": [
    {
     "data": {
      "text/plain": [
       "(<function __main__.<lambda>>, [1, 2, 3, 4, 5, 6])"
      ]
     },
     "execution_count": 205,
     "metadata": {},
     "output_type": "execute_result"
    }
   ],
   "source": [
    "#translate the above using a lambda function\n",
    "result = lambda x: (x*2) ,s\n",
    "result"
   ]
  },
  {
   "cell_type": "markdown",
   "metadata": {},
   "source": [
    "### Using If - Else "
   ]
  },
  {
   "cell_type": "code",
   "execution_count": 212,
   "metadata": {
    "collapsed": true
   },
   "outputs": [],
   "source": [
    "def is_larger(x,num):\n",
    "    if x > num:\n",
    "        print('your fave number is larger than ', num)\n",
    "    elif x < num:\n",
    "        print('uhhhm this is lesser than your favorite', x)\n",
    "    else:\n",
    "        print('Just equal')"
   ]
  },
  {
   "cell_type": "code",
   "execution_count": 213,
   "metadata": {
    "collapsed": false
   },
   "outputs": [
    {
     "name": "stdout",
     "output_type": "stream",
     "text": [
      "enter your favorite number: 23\n",
      "Enter a random number: 1\n",
      "your fave number is larger than  1\n"
     ]
    }
   ],
   "source": [
    "x = input(\"enter your favorite number: \")\n",
    "num = input(\"Enter a random number: \")\n",
    "is_larger(x,num)"
   ]
  },
  {
   "cell_type": "markdown",
   "metadata": {},
   "source": [
    "**Now we want to save this file**"
   ]
  },
  {
   "cell_type": "markdown",
   "metadata": {},
   "source": [
    "# Data Manipulation With Pandas\n",
    "> we'll discuss some preliminaries"
   ]
  },
  {
   "cell_type": "markdown",
   "metadata": {},
   "source": [
    "## Numpy Arrays\n",
    "building blocks of Pandas and some more advanced libraries like tesorflow\n",
    "> **So what's a numpy array?**\n",
    ">> Cotains values of a single type, to see full list of available dtypes see: http://nbviewer.jupyter.org/github/jakevdp/PythonDataScienceHandbook/blob/master/notebooks/02.01-Understanding-Data-Types.ipynb\n"
   ]
  },
  {
   "cell_type": "code",
   "execution_count": 2,
   "metadata": {
    "collapsed": false
   },
   "outputs": [
    {
     "data": {
      "text/plain": [
       "array([ 12.,   3.,   4.,   5.,   6.,   7.,   8.])"
      ]
     },
     "execution_count": 2,
     "metadata": {},
     "output_type": "execute_result"
    }
   ],
   "source": [
    "import numpy as np\n",
    "\n",
    "n = np.array([12,3,4,5,6,7,8], dtype = 'float64')\n",
    "n\n",
    "\n",
    "#similar to a list"
   ]
  },
  {
   "cell_type": "code",
   "execution_count": 3,
   "metadata": {
    "collapsed": false
   },
   "outputs": [
    {
     "data": {
      "text/plain": [
       "dtype('float64')"
      ]
     },
     "execution_count": 3,
     "metadata": {},
     "output_type": "execute_result"
    }
   ],
   "source": [
    "n.dtype"
   ]
  },
  {
   "cell_type": "code",
   "execution_count": 4,
   "metadata": {
    "collapsed": false
   },
   "outputs": [
    {
     "name": "stdout",
     "output_type": "stream",
     "text": [
      "(3, 4, 5)\n"
     ]
    },
    {
     "data": {
      "text/plain": [
       "array([[[ 8, 15, 13,  8, 11],\n",
       "        [18, 11,  8,  7,  2],\n",
       "        [17, 11, 15,  5,  7],\n",
       "        [ 3,  6,  4, 10, 11]],\n",
       "\n",
       "       [[19,  7,  6, 10,  1],\n",
       "        [ 3,  5,  4, 14,  6],\n",
       "        [19,  2, 16, 14, 12],\n",
       "        [18,  4, 15, 17,  7]],\n",
       "\n",
       "       [[14,  8, 18, 13, 15],\n",
       "        [ 9, 13,  8, 17,  9],\n",
       "        [ 9, 14, 19,  0, 11],\n",
       "        [ 0, 18,  8, 12, 10]]])"
      ]
     },
     "execution_count": 4,
     "metadata": {},
     "output_type": "execute_result"
    }
   ],
   "source": [
    "#numpy arrays can also be multidimensional arrays\n",
    "np.random.seed(2)\n",
    "\n",
    "x = np.random.randint(20, size = (3,4,5))\n",
    "print(x.shape) #.ndim, .size\n",
    "x"
   ]
  },
  {
   "cell_type": "markdown",
   "metadata": {},
   "source": [
    "### Indexing"
   ]
  },
  {
   "cell_type": "code",
   "execution_count": 5,
   "metadata": {
    "collapsed": false,
    "scrolled": true
   },
   "outputs": [
    {
     "data": {
      "text/plain": [
       "array([[ 8, 15, 13,  8, 11],\n",
       "       [18, 11,  8,  7,  2],\n",
       "       [17, 11, 15,  5,  7],\n",
       "       [ 3,  6,  4, 10, 11]])"
      ]
     },
     "execution_count": 5,
     "metadata": {},
     "output_type": "execute_result"
    }
   ],
   "source": [
    "#indexing numpy arrays:\n",
    "x[0]"
   ]
  },
  {
   "cell_type": "code",
   "execution_count": 6,
   "metadata": {
    "collapsed": false
   },
   "outputs": [
    {
     "data": {
      "text/plain": [
       "array([ 0, 18,  8, 12, 10])"
      ]
     },
     "execution_count": 6,
     "metadata": {},
     "output_type": "execute_result"
    }
   ],
   "source": [
    "x[2,3]"
   ]
  },
  {
   "cell_type": "code",
   "execution_count": 7,
   "metadata": {
    "collapsed": false,
    "scrolled": false
   },
   "outputs": [
    {
     "data": {
      "text/plain": [
       "array([[ 8,  7,  5],\n",
       "       [10, 14, 14]])"
      ]
     },
     "execution_count": 7,
     "metadata": {},
     "output_type": "execute_result"
    }
   ],
   "source": [
    "x[:2,:3,3] #we can also subset using : operator"
   ]
  },
  {
   "cell_type": "markdown",
   "metadata": {},
   "source": [
    "note that in lists, slicing are returned as copies, in np arrays they are returned as views, meaning if you change the view, you will change the original"
   ]
  },
  {
   "cell_type": "code",
   "execution_count": 8,
   "metadata": {
    "collapsed": false
   },
   "outputs": [
    {
     "data": {
      "text/plain": [
       "array([1, 2, 3, 4, 5, 6, 7, 8, 9])"
      ]
     },
     "execution_count": 8,
     "metadata": {},
     "output_type": "execute_result"
    }
   ],
   "source": [
    "#Reshaping\n",
    "\n",
    "x = np.arange(1,10)\n",
    "x"
   ]
  },
  {
   "cell_type": "code",
   "execution_count": 104,
   "metadata": {
    "collapsed": false,
    "scrolled": true
   },
   "outputs": [
    {
     "ename": "ValueError",
     "evalue": "total size of new array must be unchanged",
     "output_type": "error",
     "traceback": [
      "\u001b[0;31m---------------------------------------------------------------------------\u001b[0m",
      "\u001b[0;31mValueError\u001b[0m                                Traceback (most recent call last)",
      "\u001b[0;32m<ipython-input-104-1e06a0b71966>\u001b[0m in \u001b[0;36m<module>\u001b[0;34m()\u001b[0m\n\u001b[0;32m----> 1\u001b[0;31m \u001b[0mx\u001b[0m\u001b[1;33m.\u001b[0m\u001b[0mreshape\u001b[0m\u001b[1;33m(\u001b[0m\u001b[1;36m3\u001b[0m\u001b[1;33m,\u001b[0m\u001b[1;36m3\u001b[0m\u001b[1;33m)\u001b[0m\u001b[1;33m\u001b[0m\u001b[0m\n\u001b[0m\u001b[1;32m      2\u001b[0m \u001b[1;33m\u001b[0m\u001b[0m\n\u001b[1;32m      3\u001b[0m \u001b[1;31m#sizes of the resultant reshaped must be equal to the original size\u001b[0m\u001b[1;33m\u001b[0m\u001b[1;33m\u001b[0m\u001b[0m\n",
      "\u001b[0;31mValueError\u001b[0m: total size of new array must be unchanged"
     ]
    }
   ],
   "source": [
    "x.reshape(3,3)\n",
    "\n",
    "#sizes of the resultant reshaped must be equal to the original size"
   ]
  },
  {
   "cell_type": "markdown",
   "metadata": {},
   "source": [
    "## Computation on NP: uFuncs\n",
    "\"vectorized operations\" i.e. operates on ndarrays in an element by element fashion"
   ]
  },
  {
   "cell_type": "code",
   "execution_count": 13,
   "metadata": {
    "collapsed": false
   },
   "outputs": [
    {
     "name": "stdout",
     "output_type": "stream",
     "text": [
      "[0 1 2 3]\n",
      "x      = [0 1 2 3]\n",
      "x + 5  = [6 7 8 9]\n",
      "x - 5  = [-3 -2 -1  0]\n",
      "x * 2  = [0 3 6 9]\n",
      "x / 2  = [ 0.          0.16666667  0.33333333  0.5       ]\n",
      "x // 2 = [0 0 1 1]\n",
      "-x     =  [ 0 -1 -2 -3]\n",
      "x ** 2 =  [0 1 4 9]\n",
      "x % 2  =  [0 1 0 1]\n"
     ]
    }
   ],
   "source": [
    "#Array Arithmetic:\n",
    "x = np.arange(4)\n",
    "\n",
    "print(\"x      =\", x)\n",
    "print(\"x + 5  =\", x + 6)\n",
    "print(\"x - 5  =\", x - 3)\n",
    "print(\"x * 2  =\", x * 3)\n",
    "print(\"x / 2  =\", x / 6)\n",
    "print(\"x // 2 =\", x // 2)\n",
    "print(\"-x     = \", -x)\n",
    "print(\"x ** 2 = \", x ** 2)\n",
    "print(\"x % 2  = \", x % 2)\n",
    "\n"
   ]
  },
  {
   "cell_type": "markdown",
   "metadata": {},
   "source": [
    "**Other uFuncs details are left as reading assignment**"
   ]
  },
  {
   "cell_type": "markdown",
   "metadata": {},
   "source": [
    "## Aggregations"
   ]
  },
  {
   "cell_type": "code",
   "execution_count": 14,
   "metadata": {
    "collapsed": true
   },
   "outputs": [],
   "source": [
    "big_array = np.random.rand(1000000)"
   ]
  },
  {
   "cell_type": "code",
   "execution_count": 15,
   "metadata": {
    "collapsed": false
   },
   "outputs": [
    {
     "name": "stdout",
     "output_type": "stream",
     "text": [
      "1 loop, best of 3: 222 ms per loop\n",
      "1000 loops, best of 3: 816 µs per loop\n"
     ]
    }
   ],
   "source": [
    "%timeit sum(big_array)\n",
    "%timeit np.sum(big_array)\n",
    "#try this with min, max"
   ]
  },
  {
   "cell_type": "markdown",
   "metadata": {},
   "source": [
    "**Difference between sum and np.sum or array.sum()?**\n",
    "* **sum()**      : base sum\n",
    "* **np.sum()**   : multidimensional aware\n",
    "* **array.sum()**: same with np.sum"
   ]
  },
  {
   "cell_type": "code",
   "execution_count": 17,
   "metadata": {
    "collapsed": false,
    "scrolled": true
   },
   "outputs": [
    {
     "name": "stdout",
     "output_type": "stream",
     "text": [
      "[[ 0.01537852  0.25819107  0.64787252]\n",
      " [ 0.74401047  0.7299127   0.16012055]\n",
      " [ 0.26102714  0.71512351  0.9015068 ]\n",
      " [ 0.02869442  0.93745211  0.88110714]]\n"
     ]
    }
   ],
   "source": [
    "M = np.random.random((4,3))\n",
    "print(M)"
   ]
  },
  {
   "cell_type": "code",
   "execution_count": 18,
   "metadata": {
    "collapsed": false
   },
   "outputs": [
    {
     "data": {
      "text/plain": [
       "6.2803969481120481"
      ]
     },
     "execution_count": 18,
     "metadata": {},
     "output_type": "execute_result"
    }
   ],
   "source": [
    "#Defaut is sum overall\n",
    "M.sum()"
   ]
  },
  {
   "cell_type": "code",
   "execution_count": 20,
   "metadata": {
    "collapsed": false
   },
   "outputs": [
    {
     "data": {
      "text/plain": [
       "array([ 1.04911055,  2.64067939,  2.590607  ])"
      ]
     },
     "execution_count": 20,
     "metadata": {},
     "output_type": "execute_result"
    }
   ],
   "source": [
    "#Wht if we want to sum per column only?\n",
    "# Use Axis, along which the operation is performed\n",
    "M.sum(axis = 0)\n",
    "# try axis = 1"
   ]
  },
  {
   "cell_type": "markdown",
   "metadata": {},
   "source": [
    "### Broadcasting"
   ]
  },
  {
   "cell_type": "code",
   "execution_count": 22,
   "metadata": {
    "collapsed": false
   },
   "outputs": [
    {
     "data": {
      "text/plain": [
       "array([3, 4, 5])"
      ]
     },
     "execution_count": 22,
     "metadata": {},
     "output_type": "execute_result"
    }
   ],
   "source": [
    "a = np.array([2,3,4])\n",
    "b = np.array([1,1,1])\n",
    "a+b\n",
    "\n",
    "#recall how binary ufuncs work"
   ]
  },
  {
   "cell_type": "code",
   "execution_count": 24,
   "metadata": {
    "collapsed": false,
    "scrolled": true
   },
   "outputs": [
    {
     "data": {
      "text/plain": [
       "array([ 9, 10, 11])"
      ]
     },
     "execution_count": 24,
     "metadata": {},
     "output_type": "execute_result"
    }
   ],
   "source": [
    "a + 7"
   ]
  },
  {
   "cell_type": "markdown",
   "metadata": {},
   "source": [
    "works like: [2,3,4] + [7,7,7]"
   ]
  },
  {
   "cell_type": "code",
   "execution_count": 25,
   "metadata": {
    "collapsed": false,
    "scrolled": true
   },
   "outputs": [
    {
     "data": {
      "text/plain": [
       "array([[ 1.,  1.,  1.],\n",
       "       [ 1.,  1.,  1.],\n",
       "       [ 1.,  1.,  1.]])"
      ]
     },
     "execution_count": 25,
     "metadata": {},
     "output_type": "execute_result"
    }
   ],
   "source": [
    "#Another example:\n",
    "M = np.ones((3,3))\n",
    "M"
   ]
  },
  {
   "cell_type": "code",
   "execution_count": 26,
   "metadata": {
    "collapsed": false
   },
   "outputs": [
    {
     "data": {
      "text/plain": [
       "array([[ 3.,  4.,  5.],\n",
       "       [ 3.,  4.,  5.],\n",
       "       [ 3.,  4.,  5.]])"
      ]
     },
     "execution_count": 26,
     "metadata": {},
     "output_type": "execute_result"
    }
   ],
   "source": [
    "M + a"
   ]
  },
  {
   "cell_type": "code",
   "execution_count": 27,
   "metadata": {
    "collapsed": false
   },
   "outputs": [
    {
     "name": "stdout",
     "output_type": "stream",
     "text": [
      "[0 1 2]\n",
      "[[0]\n",
      " [1]\n",
      " [2]]\n"
     ]
    }
   ],
   "source": [
    "#JUST ONE MORE EXAMPLe\n",
    "a = np.arange(3)\n",
    "b = np.arange(3)[:, np.newaxis]\n",
    "\n",
    "print(a)\n",
    "print(b)"
   ]
  },
  {
   "cell_type": "code",
   "execution_count": 28,
   "metadata": {
    "collapsed": false,
    "scrolled": true
   },
   "outputs": [
    {
     "data": {
      "text/plain": [
       "array([[0, 1, 2],\n",
       "       [1, 2, 3],\n",
       "       [2, 3, 4]])"
      ]
     },
     "execution_count": 28,
     "metadata": {},
     "output_type": "execute_result"
    }
   ],
   "source": [
    "a + b"
   ]
  },
  {
   "cell_type": "markdown",
   "metadata": {},
   "source": [
    "### Why do we need this?"
   ]
  },
  {
   "cell_type": "code",
   "execution_count": 56,
   "metadata": {
    "collapsed": false
   },
   "outputs": [
    {
     "data": {
      "text/plain": [
       "array([[ 0.99575955,  0.39169605,  0.71378415,  0.77937843,  0.93771071,\n",
       "         0.19684512,  0.82824373,  0.94376192,  0.82910862,  0.95664359]])"
      ]
     },
     "execution_count": 56,
     "metadata": {},
     "output_type": "execute_result"
    }
   ],
   "source": [
    "#Example compute the outer products\n",
    "\n",
    "W = np.random.random((1,10))\n",
    "W"
   ]
  },
  {
   "cell_type": "code",
   "execution_count": 59,
   "metadata": {
    "collapsed": false
   },
   "outputs": [],
   "source": [
    "\n",
    "X = np.random.random((30,10))\n"
   ]
  },
  {
   "cell_type": "code",
   "execution_count": 58,
   "metadata": {
    "collapsed": false
   },
   "outputs": [
    {
     "data": {
      "text/plain": [
       "array([[ 0.04468023,  0.20597675,  0.48954226,  0.24225575,  0.88554419,\n",
       "         0.08493625,  0.51177658,  0.42365053,  0.76147094,  0.44729902],\n",
       "       [ 0.31815809,  0.36207095,  0.29879118,  0.52016328,  0.34729372,\n",
       "         0.03965129,  0.78863328,  0.00300759,  0.22027434,  0.9098217 ],\n",
       "       [ 0.53200728,  0.37689974,  0.29880184,  0.27888596,  0.03451492,\n",
       "         0.03852004,  0.74948119,  0.73950039,  0.61234009,  0.04070959],\n",
       "       [ 0.04011316,  0.13172828,  0.51206777,  0.24680612,  0.44413778,\n",
       "         0.00549185,  0.00710668,  0.66564736,  0.54545233,  0.20229007],\n",
       "       [ 0.83122759,  0.01514711,  0.2492483 ,  0.60341287,  0.04099385,\n",
       "         0.0771441 ,  0.21962069,  0.31840106,  0.3116259 ,  0.00668343],\n",
       "       [ 0.54424869,  0.23199919,  0.58557884,  0.160302  ,  0.07518009,\n",
       "         0.00806352,  0.25889221,  0.61246643,  0.48092518,  0.23773897],\n",
       "       [ 0.80084005,  0.12412994,  0.55453771,  0.37963582,  0.10566343,\n",
       "         0.16914216,  0.35066727,  0.27743871,  0.03274226,  0.41595318],\n",
       "       [ 0.89831656,  0.10977373,  0.27640584,  0.70824187,  0.90076982,\n",
       "         0.18174432,  0.12910912,  0.43897357,  0.80332357,  0.84672791],\n",
       "       [ 0.62719833,  0.01936669,  0.62962488,  0.48360399,  0.42419687,\n",
       "         0.15880203,  0.35737858,  0.18998552,  0.78206658,  0.04087916],\n",
       "       [ 0.09123946,  0.0604596 ,  0.21721624,  0.29102776,  0.01271246,\n",
       "         0.00830473,  0.20044161,  0.84447857,  0.29069073,  0.67127076],\n",
       "       [ 0.23442414,  0.37213083,  0.66550544,  0.11055303,  0.08073268,\n",
       "         0.07842383,  0.67421567,  0.40842833,  0.40141121,  0.45172939],\n",
       "       [ 0.28670303,  0.35973209,  0.10727944,  0.1302996 ,  0.52780253,\n",
       "         0.18160045,  0.79841209,  0.93670091,  0.15922615,  0.73225908],\n",
       "       [ 0.51387488,  0.24223079,  0.45215146,  0.29340861,  0.6175376 ,\n",
       "         0.12898392,  0.29841396,  0.33176631,  0.3290465 ,  0.04222868],\n",
       "       [ 0.99520396,  0.10679459,  0.06140894,  0.71120105,  0.08720867,\n",
       "         0.11676301,  0.36951084,  0.86954451,  0.50976146,  0.84422182],\n",
       "       [ 0.58708687,  0.0569029 ,  0.34222438,  0.54227311,  0.73915608,\n",
       "         0.0392736 ,  0.3957393 ,  0.13343329,  0.15289076,  0.67290845],\n",
       "       [ 0.08272181,  0.3027084 ,  0.14290047,  0.54825956,  0.17884713,\n",
       "         0.13873162,  0.11930881,  0.92107388,  0.71139872,  0.92946711],\n",
       "       [ 0.08418265,  0.01091958,  0.2827444 ,  0.77377444,  0.31781692,\n",
       "         0.0825656 ,  0.06020088,  0.90163718,  0.16072932,  0.51226884],\n",
       "       [ 0.6474931 ,  0.01792517,  0.30836934,  0.43628055,  0.42297269,\n",
       "         0.13767396,  0.78460122,  0.77083378,  0.1357521 ,  0.92886791],\n",
       "       [ 0.24355565,  0.05349799,  0.61080306,  0.65056227,  0.2120961 ,\n",
       "         0.16877051,  0.47584194,  0.30808915,  0.1890377 ,  0.49682164],\n",
       "       [ 0.3074997 ,  0.3185928 ,  0.50270187,  0.51461754,  0.88744869,\n",
       "         0.17868535,  0.53795305,  0.13072368,  0.45574718,  0.47740177],\n",
       "       [ 0.50664733,  0.12523263,  0.00631293,  0.25362915,  0.20562779,\n",
       "         0.16636039,  0.60557099,  0.80199277,  0.77244055,  0.22989691],\n",
       "       [ 0.88236261,  0.21309537,  0.32116094,  0.54606731,  0.71543928,\n",
       "         0.11921126,  0.70926167,  0.10385985,  0.43776528,  0.29167727],\n",
       "       [ 0.76359755,  0.1544702 ,  0.03957474,  0.33323391,  0.27640172,\n",
       "         0.12598619,  0.18093211,  0.69911518,  0.73528882,  0.42954519],\n",
       "       [ 0.3370968 ,  0.32303385,  0.63958912,  0.70039875,  0.92906667,\n",
       "         0.05271863,  0.75274053,  0.05408198,  0.27423052,  0.77969675],\n",
       "       [ 0.11236476,  0.0708387 ,  0.02946497,  0.72000885,  0.93671273,\n",
       "         0.02556137,  0.54642042,  0.70778509,  0.55131573,  0.76739587],\n",
       "       [ 0.00600368,  0.39055652,  0.68942772,  0.75249111,  0.84283316,\n",
       "         0.11745381,  0.63700007,  0.94114676,  0.15077656,  0.29719461],\n",
       "       [ 0.47771579,  0.29189719,  0.21414006,  0.36177035,  0.47640693,\n",
       "         0.0855591 ,  0.61119312,  0.77461994,  0.08011214,  0.2189099 ],\n",
       "       [ 0.09547647,  0.28340999,  0.12700075,  0.35363926,  0.18608292,\n",
       "         0.17942168,  0.81396316,  0.78711464,  0.63529855,  0.64628221],\n",
       "       [ 0.03211697,  0.0963975 ,  0.52035073,  0.45070343,  0.33978602,\n",
       "         0.12698917,  0.26013244,  0.29299097,  0.50861367,  0.15411351],\n",
       "       [ 0.88022174,  0.05890148,  0.11380818,  0.14629447,  0.59362921,\n",
       "         0.12343219,  0.50591154,  0.37951248,  0.6882981 ,  0.71646657]])"
      ]
     },
     "execution_count": 58,
     "metadata": {},
     "output_type": "execute_result"
    }
   ],
   "source": [
    "W*X"
   ]
  },
  {
   "cell_type": "code",
   "execution_count": null,
   "metadata": {
    "collapsed": true
   },
   "outputs": [],
   "source": []
  },
  {
   "cell_type": "markdown",
   "metadata": {},
   "source": [
    "# Pandas\n",
    "A powerful Data Analysis library for python"
   ]
  },
  {
   "cell_type": "code",
   "execution_count": 1,
   "metadata": {
    "collapsed": false
   },
   "outputs": [],
   "source": [
    "import pandas as pd\n",
    "\n",
    "#set path to read data from\n",
    "path = r'G:/GSSC/Analytics/AO GSSC/Rimar/PythonCourse'\n",
    "#CrashStats"
   ]
  },
  {
   "cell_type": "code",
   "execution_count": 2,
   "metadata": {
    "collapsed": false
   },
   "outputs": [],
   "source": [
    "accident = pd.read_csv(path+'/ACCIDENT_EVENT.csv')"
   ]
  },
  {
   "cell_type": "code",
   "execution_count": 3,
   "metadata": {
    "collapsed": false,
    "scrolled": true
   },
   "outputs": [
    {
     "data": {
      "text/html": [
       "<div>\n",
       "<table border=\"1\" class=\"dataframe\">\n",
       "  <thead>\n",
       "    <tr style=\"text-align: right;\">\n",
       "      <th></th>\n",
       "      <th>ACCIDENT_NO</th>\n",
       "      <th>EVENT_SEQ_NO</th>\n",
       "      <th>EVENT_TYPE</th>\n",
       "      <th>Event Type Desc</th>\n",
       "      <th>VEHICLE_1_ID</th>\n",
       "      <th>VEHICLE_1_COLL_PT</th>\n",
       "      <th>Vehicle 1 Coll Pt Desc</th>\n",
       "      <th>VEHICLE_2_ID</th>\n",
       "      <th>VEHICLE_2_COLL_PT</th>\n",
       "      <th>Vehicle 2 Coll Pt Desc</th>\n",
       "      <th>PERSON_ID</th>\n",
       "      <th>OBJECT_TYPE</th>\n",
       "      <th>Object Type Desc</th>\n",
       "    </tr>\n",
       "  </thead>\n",
       "  <tbody>\n",
       "    <tr>\n",
       "      <th>0</th>\n",
       "      <td>T20060000010</td>\n",
       "      <td>1</td>\n",
       "      <td>C</td>\n",
       "      <td>Collision</td>\n",
       "      <td>B</td>\n",
       "      <td>2</td>\n",
       "      <td>Right side (forwards)</td>\n",
       "      <td>A</td>\n",
       "      <td>F</td>\n",
       "      <td>Front</td>\n",
       "      <td></td>\n",
       "      <td>99</td>\n",
       "      <td>Not Applicable</td>\n",
       "    </tr>\n",
       "    <tr>\n",
       "      <th>1</th>\n",
       "      <td>T20060000018</td>\n",
       "      <td>1</td>\n",
       "      <td>C</td>\n",
       "      <td>Collision</td>\n",
       "      <td>B</td>\n",
       "      <td>F</td>\n",
       "      <td>Front</td>\n",
       "      <td>A</td>\n",
       "      <td>9</td>\n",
       "      <td>Not known or Not Applicable</td>\n",
       "      <td></td>\n",
       "      <td>99</td>\n",
       "      <td>Not Applicable</td>\n",
       "    </tr>\n",
       "    <tr>\n",
       "      <th>2</th>\n",
       "      <td>T20060000022</td>\n",
       "      <td>1</td>\n",
       "      <td>2</td>\n",
       "      <td>Fell from vehicle</td>\n",
       "      <td>A</td>\n",
       "      <td>9</td>\n",
       "      <td>Not known or Not Applicable</td>\n",
       "      <td></td>\n",
       "      <td></td>\n",
       "      <td></td>\n",
       "      <td>01</td>\n",
       "      <td>99</td>\n",
       "      <td>Not Applicable</td>\n",
       "    </tr>\n",
       "    <tr>\n",
       "      <th>3</th>\n",
       "      <td>T20060000023</td>\n",
       "      <td>1</td>\n",
       "      <td>C</td>\n",
       "      <td>Collision</td>\n",
       "      <td>A</td>\n",
       "      <td>F</td>\n",
       "      <td>Front</td>\n",
       "      <td>B</td>\n",
       "      <td>R</td>\n",
       "      <td>Rear</td>\n",
       "      <td></td>\n",
       "      <td>99</td>\n",
       "      <td>Not Applicable</td>\n",
       "    </tr>\n",
       "    <tr>\n",
       "      <th>4</th>\n",
       "      <td>T20060000026</td>\n",
       "      <td>1</td>\n",
       "      <td>C</td>\n",
       "      <td>Collision</td>\n",
       "      <td>A</td>\n",
       "      <td>9</td>\n",
       "      <td>Not known or Not Applicable</td>\n",
       "      <td>B</td>\n",
       "      <td>9</td>\n",
       "      <td>Not known or Not Applicable</td>\n",
       "      <td></td>\n",
       "      <td>99</td>\n",
       "      <td>Not Applicable</td>\n",
       "    </tr>\n",
       "  </tbody>\n",
       "</table>\n",
       "</div>"
      ],
      "text/plain": [
       "    ACCIDENT_NO  EVENT_SEQ_NO EVENT_TYPE    Event Type Desc VEHICLE_1_ID  \\\n",
       "0  T20060000010             1          C          Collision            B   \n",
       "1  T20060000018             1          C          Collision            B   \n",
       "2  T20060000022             1          2  Fell from vehicle            A   \n",
       "3  T20060000023             1          C          Collision            A   \n",
       "4  T20060000026             1          C          Collision            A   \n",
       "\n",
       "  VEHICLE_1_COLL_PT       Vehicle 1 Coll Pt Desc VEHICLE_2_ID  \\\n",
       "0                 2        Right side (forwards)            A   \n",
       "1                 F                        Front            A   \n",
       "2                 9  Not known or Not Applicable                \n",
       "3                 F                        Front            B   \n",
       "4                 9  Not known or Not Applicable            B   \n",
       "\n",
       "  VEHICLE_2_COLL_PT       Vehicle 2 Coll Pt Desc PERSON_ID  OBJECT_TYPE  \\\n",
       "0                 F                        Front                     99   \n",
       "1                 9  Not known or Not Applicable                     99   \n",
       "2                                                       01           99   \n",
       "3                 R                         Rear                     99   \n",
       "4                 9  Not known or Not Applicable                     99   \n",
       "\n",
       "  Object Type Desc  \n",
       "0   Not Applicable  \n",
       "1   Not Applicable  \n",
       "2   Not Applicable  \n",
       "3   Not Applicable  \n",
       "4   Not Applicable  "
      ]
     },
     "execution_count": 3,
     "metadata": {},
     "output_type": "execute_result"
    }
   ],
   "source": [
    "accident.head()"
   ]
  },
  {
   "cell_type": "code",
   "execution_count": 4,
   "metadata": {
    "collapsed": false,
    "scrolled": true
   },
   "outputs": [
    {
     "name": "stdout",
     "output_type": "stream",
     "text": [
      "<class 'pandas.core.frame.DataFrame'>\n",
      "RangeIndex: 238245 entries, 0 to 238244\n",
      "Data columns (total 13 columns):\n",
      "ACCIDENT_NO               238245 non-null object\n",
      "EVENT_SEQ_NO              238245 non-null int64\n",
      "EVENT_TYPE                238245 non-null object\n",
      "Event Type Desc           238245 non-null object\n",
      "VEHICLE_1_ID              238245 non-null object\n",
      "VEHICLE_1_COLL_PT         238245 non-null object\n",
      "Vehicle 1 Coll Pt Desc    238245 non-null object\n",
      "VEHICLE_2_ID              238245 non-null object\n",
      "VEHICLE_2_COLL_PT         238245 non-null object\n",
      "Vehicle 2 Coll Pt Desc    238245 non-null object\n",
      "PERSON_ID                 238245 non-null object\n",
      "OBJECT_TYPE               238245 non-null int64\n",
      "Object Type Desc          238245 non-null object\n",
      "dtypes: int64(2), object(11)\n",
      "memory usage: 23.6+ MB\n"
     ]
    }
   ],
   "source": [
    "accident.info()"
   ]
  },
  {
   "cell_type": "code",
   "execution_count": 5,
   "metadata": {
    "collapsed": false,
    "scrolled": true
   },
   "outputs": [
    {
     "data": {
      "text/plain": [
       "Index(['ACCIDENT_NO', 'EVENT_SEQ_NO', 'EVENT_TYPE', 'Event Type Desc',\n",
       "       'VEHICLE_1_ID', 'VEHICLE_1_COLL_PT', 'Vehicle 1 Coll Pt Desc',\n",
       "       'VEHICLE_2_ID', 'VEHICLE_2_COLL_PT', 'Vehicle 2 Coll Pt Desc',\n",
       "       'PERSON_ID', 'OBJECT_TYPE', 'Object Type Desc'],\n",
       "      dtype='object')"
      ]
     },
     "execution_count": 5,
     "metadata": {},
     "output_type": "execute_result"
    }
   ],
   "source": [
    "accident.columns"
   ]
  },
  {
   "cell_type": "code",
   "execution_count": 6,
   "metadata": {
    "collapsed": false,
    "scrolled": false
   },
   "outputs": [
    {
     "data": {
      "text/html": [
       "<div>\n",
       "<table border=\"1\" class=\"dataframe\">\n",
       "  <thead>\n",
       "    <tr style=\"text-align: right;\">\n",
       "      <th></th>\n",
       "      <th>ACCIDENT_NO</th>\n",
       "      <th>EVENT_TYPE</th>\n",
       "    </tr>\n",
       "  </thead>\n",
       "  <tbody>\n",
       "    <tr>\n",
       "      <th>0</th>\n",
       "      <td>T20060000010</td>\n",
       "      <td>C</td>\n",
       "    </tr>\n",
       "    <tr>\n",
       "      <th>1</th>\n",
       "      <td>T20060000018</td>\n",
       "      <td>C</td>\n",
       "    </tr>\n",
       "    <tr>\n",
       "      <th>2</th>\n",
       "      <td>T20060000022</td>\n",
       "      <td>2</td>\n",
       "    </tr>\n",
       "    <tr>\n",
       "      <th>3</th>\n",
       "      <td>T20060000023</td>\n",
       "      <td>C</td>\n",
       "    </tr>\n",
       "    <tr>\n",
       "      <th>4</th>\n",
       "      <td>T20060000026</td>\n",
       "      <td>C</td>\n",
       "    </tr>\n",
       "  </tbody>\n",
       "</table>\n",
       "</div>"
      ],
      "text/plain": [
       "    ACCIDENT_NO EVENT_TYPE\n",
       "0  T20060000010          C\n",
       "1  T20060000018          C\n",
       "2  T20060000022          2\n",
       "3  T20060000023          C\n",
       "4  T20060000026          C"
      ]
     },
     "execution_count": 6,
     "metadata": {},
     "output_type": "execute_result"
    }
   ],
   "source": [
    "#indexing DataFrame\n",
    "accident[['ACCIDENT_NO', 'EVENT_TYPE']].head()"
   ]
  },
  {
   "cell_type": "code",
   "execution_count": 7,
   "metadata": {
    "collapsed": false,
    "scrolled": true
   },
   "outputs": [
    {
     "data": {
      "text/plain": [
       "EVENT_TYPE\n",
       "1     12759\n",
       "2     27169\n",
       "3     33266\n",
       "4        57\n",
       "5       392\n",
       "6       300\n",
       "8       844\n",
       "9        26\n",
       "C    163432\n",
       "Name: EVENT_TYPE, dtype: int64"
      ]
     },
     "execution_count": 7,
     "metadata": {},
     "output_type": "execute_result"
    }
   ],
   "source": [
    "\n",
    "(accident.groupby(['EVENT_TYPE'])['EVENT_TYPE'].count())"
   ]
  },
  {
   "cell_type": "markdown",
   "metadata": {},
   "source": [
    "### Pandas Objects: Series / DataFrame / Index\n",
    "Pandas objects are specialized Numpy Arrays, i.e. instead of integer indices, they used labels for indices"
   ]
  },
  {
   "cell_type": "markdown",
   "metadata": {},
   "source": [
    "#### SERIES\n",
    "* 1-Dimensional array of indexed data\n",
    "* Generalized Numpy Array\n",
    "* Specialized Dicts"
   ]
  },
  {
   "cell_type": "code",
   "execution_count": 97,
   "metadata": {
    "collapsed": false
   },
   "outputs": [
    {
     "data": {
      "text/plain": [
       "0      1.0\n",
       "1      8.0\n",
       "2     27.0\n",
       "3     64.0\n",
       "4    125.0\n",
       "5    216.0\n",
       "6    343.0\n",
       "7    512.0\n",
       "8    729.0\n",
       "dtype: float64"
      ]
     },
     "execution_count": 97,
     "metadata": {},
     "output_type": "execute_result"
    }
   ],
   "source": [
    "#Let's Construct a series from a list:\n",
    "S = pd.Series([x**3 for x in range(1,10)],  dtype = 'float64')\n",
    "S\n",
    "\n",
    "#Notice that the output has indexes!"
   ]
  },
  {
   "cell_type": "markdown",
   "metadata": {},
   "source": [
    "Notice that the values are just numpy arrays:"
   ]
  },
  {
   "cell_type": "code",
   "execution_count": 102,
   "metadata": {
    "collapsed": false
   },
   "outputs": [
    {
     "name": "stdout",
     "output_type": "stream",
     "text": [
      "RangeIndex(start=0, stop=9, step=1)\n"
     ]
    },
    {
     "data": {
      "text/plain": [
       "array([   1.,    8.,   27.,   64.,  125.,  216.,  343.,  512.,  729.])"
      ]
     },
     "execution_count": 102,
     "metadata": {},
     "output_type": "execute_result"
    }
   ],
   "source": [
    "print(S.index)\n",
    "S.values"
   ]
  },
  {
   "cell_type": "code",
   "execution_count": 105,
   "metadata": {
    "collapsed": false
   },
   "outputs": [
    {
     "data": {
      "text/plain": [
       "0     1.0\n",
       "1     8.0\n",
       "2    27.0\n",
       "dtype: float64"
      ]
     },
     "execution_count": 105,
     "metadata": {},
     "output_type": "execute_result"
    }
   ],
   "source": [
    "#We can also index it like numpy Arrays!\n",
    "S[0:3]"
   ]
  },
  {
   "cell_type": "markdown",
   "metadata": {},
   "source": [
    "**In pandas series, indices is not limited to integers!**\n",
    "\n",
    "it can work like a dictionary"
   ]
  },
  {
   "cell_type": "code",
   "execution_count": 107,
   "metadata": {
    "collapsed": false
   },
   "outputs": [
    {
     "data": {
      "text/plain": [
       "a    0.15\n",
       "b    0.30\n",
       "c    0.12\n",
       "a    0.48\n",
       "dtype: float64"
      ]
     },
     "execution_count": 107,
     "metadata": {},
     "output_type": "execute_result"
    }
   ],
   "source": [
    "ex = pd.Series([.15, .30, .12, .48],\n",
    "              index = ['a','b','c', 'a'])\n",
    "ex"
   ]
  },
  {
   "cell_type": "code",
   "execution_count": 109,
   "metadata": {
    "collapsed": false,
    "scrolled": true
   },
   "outputs": [
    {
     "data": {
      "text/plain": [
       "a    0.15\n",
       "a    0.48\n",
       "dtype: float64"
      ]
     },
     "execution_count": 109,
     "metadata": {},
     "output_type": "execute_result"
    }
   ],
   "source": [
    "ex['a']"
   ]
  },
  {
   "cell_type": "code",
   "execution_count": 2,
   "metadata": {
    "collapsed": true
   },
   "outputs": [],
   "source": [
    "sales_dict = {'Cebu': 38332,\n",
    "              'Makati': 26448,\n",
    "              'BGC': 19651,\n",
    "              'QC': 19552,\n",
    "              'Alabang': 12882}\n",
    "sales = pd.Series(sales_dict)"
   ]
  },
  {
   "cell_type": "code",
   "execution_count": 3,
   "metadata": {
    "collapsed": false,
    "scrolled": true
   },
   "outputs": [
    {
     "data": {
      "text/plain": [
       "Alabang    12882\n",
       "BGC        19651\n",
       "Cebu       38332\n",
       "Makati     26448\n",
       "QC         19552\n",
       "dtype: int64"
      ]
     },
     "execution_count": 3,
     "metadata": {},
     "output_type": "execute_result"
    }
   ],
   "source": [
    "sales"
   ]
  },
  {
   "cell_type": "markdown",
   "metadata": {},
   "source": [
    "* dict : Series\n",
    "* Keys : Index\n",
    "* values : values\n",
    "* arbitrary : typed"
   ]
  },
  {
   "cell_type": "markdown",
   "metadata": {},
   "source": [
    "**How do we construct Series?**\n",
    "> pd.Series(data, index = index)"
   ]
  },
  {
   "cell_type": "markdown",
   "metadata": {
    "collapsed": true
   },
   "source": [
    "#### DATAFRAME\n",
    "* Generalization of a numpy array\n",
    "* Specialization of python dicts\n",
    "* two-dimensional series"
   ]
  },
  {
   "cell_type": "markdown",
   "metadata": {},
   "source": [
    "Different Methods of creating a Data Frame:\n",
    "* from a single series object\n",
    "* from a list of dicts\n",
    "* from a dict of series\n",
    "* from a 2D Numpy Array\n",
    "* from a Numpy structured array\n",
    "\n",
    "**In this sessions we will focus on using Pandas for data manipulation**"
   ]
  },
  {
   "cell_type": "markdown",
   "metadata": {
    "collapsed": true
   },
   "source": [
    "https://www.rittmanmead.com/blog/2016/12/python-for-analytics-exploring-data-with-pandas/\n",
    "http://blog.kaggle.com/2013/01/17/getting-started-with-pandas-predicting-sat-scores-for-new-york-city-schools/\n",
    "https://medium.com/@joaoandre/introduction-to-data-science-with-pandas-b586f0257bab\n",
    "pandas cook book\n",
    "\n",
    "http://manishamde.github.io/blog/2013/03/07/pandas-and-python-top-10/"
   ]
  },
  {
   "cell_type": "markdown",
   "metadata": {
    "collapsed": true
   },
   "source": [
    "**Predicting SAT Scores for New York City Schools**\n",
    "\n",
    "by Chris Clark"
   ]
  },
  {
   "cell_type": "markdown",
   "metadata": {
    "collapsed": true
   },
   "source": [
    "* Reading Data\n",
    "* Viewing data\n",
    "* Indexing\n",
    "* Masking\n",
    "* inserting new columns\n",
    "* Summary statistics\n",
    "* Variable Imputation"
   ]
  },
  {
   "cell_type": "code",
   "execution_count": null,
   "metadata": {
    "collapsed": true
   },
   "outputs": [],
   "source": []
  },
  {
   "cell_type": "code",
   "execution_count": null,
   "metadata": {
    "collapsed": true
   },
   "outputs": [],
   "source": []
  },
  {
   "cell_type": "code",
   "execution_count": null,
   "metadata": {
    "collapsed": true
   },
   "outputs": [],
   "source": []
  },
  {
   "cell_type": "code",
   "execution_count": null,
   "metadata": {
    "collapsed": true
   },
   "outputs": [],
   "source": []
  },
  {
   "cell_type": "code",
   "execution_count": null,
   "metadata": {
    "collapsed": true
   },
   "outputs": [],
   "source": []
  },
  {
   "cell_type": "code",
   "execution_count": null,
   "metadata": {
    "collapsed": true
   },
   "outputs": [],
   "source": []
  }
 ],
 "metadata": {
  "kernelspec": {
   "display_name": "Python 3",
   "language": "python",
   "name": "python3"
  },
  "language_info": {
   "codemirror_mode": {
    "name": "ipython",
    "version": 3
   },
   "file_extension": ".py",
   "mimetype": "text/x-python",
   "name": "python",
   "nbconvert_exporter": "python",
   "pygments_lexer": "ipython3",
   "version": "3.6.0"
  }
 },
 "nbformat": 4,
 "nbformat_minor": 2
}
